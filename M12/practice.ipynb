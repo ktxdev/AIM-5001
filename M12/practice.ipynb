{
 "cells": [
  {
   "cell_type": "code",
   "execution_count": 1,
   "metadata": {},
   "outputs": [],
   "source": [
    "import json\n",
    "import pandas as pd"
   ]
  },
  {
   "cell_type": "markdown",
   "metadata": {},
   "source": [
    "### Loading Business data"
   ]
  },
  {
   "cell_type": "code",
   "execution_count": 2,
   "metadata": {},
   "outputs": [],
   "source": [
    "biz_file = open(\"/Users/ktxdev/Documents/MS in AI/Data Acquisition & Management/Datasets/yelp/yelp_academic_dataset_business.json\")\n",
    "biz_df = pd.DataFrame([json.loads(x) for x in biz_file.readlines()])\n",
    "biz_file.close()"
   ]
  },
  {
   "cell_type": "markdown",
   "metadata": {},
   "source": [
    "### Loading the reviews file"
   ]
  },
  {
   "cell_type": "code",
   "execution_count": 3,
   "metadata": {},
   "outputs": [],
   "source": [
    "reviews_file = open(\"/Users/ktxdev/Documents/MS in AI/Data Acquisition & Management/Datasets/yelp/yelp_academic_dataset_review.json\")\n",
    "reviews_df = pd.DataFrame([json.loads(x) for x in reviews_file.readlines()])\n",
    "reviews_file.close()"
   ]
  },
  {
   "cell_type": "markdown",
   "metadata": {},
   "source": [
    "### Putting out Nightlife and Restaurants only"
   ]
  },
  {
   "cell_type": "code",
   "execution_count": 4,
   "metadata": {},
   "outputs": [],
   "source": [
    "two_biz = biz_df[biz_df['categories'].apply(lambda x: any(x is not None and cat in x for cat in ['Nightlife', 'Restaurants']))]"
   ]
  },
  {
   "cell_type": "markdown",
   "metadata": {},
   "source": [
    "### Joining all the reviews for the two types of business"
   ]
  },
  {
   "cell_type": "code",
   "execution_count": 6,
   "metadata": {},
   "outputs": [],
   "source": [
    "two_biz_reviews = two_biz.merge(reviews_df, on='business_id', how='inner')"
   ]
  },
  {
   "cell_type": "markdown",
   "metadata": {},
   "source": [
    "### Select features"
   ]
  },
  {
   "cell_type": "code",
   "execution_count": 7,
   "metadata": {},
   "outputs": [],
   "source": [
    "two_biz_reviews = two_biz_reviews[['business_id', 'name', 'stars_y', 'text', 'categories']]"
   ]
  },
  {
   "cell_type": "markdown",
   "metadata": {},
   "source": [
    "### Create Target column with Nightlife as True"
   ]
  },
  {
   "cell_type": "code",
   "execution_count": 21,
   "metadata": {},
   "outputs": [],
   "source": [
    "two_biz_reviews['target'] = two_biz_reviews.apply(lambda x: 'Nightlife' in x['categories'], axis=1)"
   ]
  },
  {
   "cell_type": "markdown",
   "metadata": {},
   "source": [
    "### Creating a balanced classification dataset"
   ]
  },
  {
   "cell_type": "code",
   "execution_count": 22,
   "metadata": {},
   "outputs": [
    {
     "name": "stdout",
     "output_type": "stream",
     "text": [
      "(157035, 6)\n",
      "(67301, 6)\n"
     ]
    }
   ],
   "source": [
    "nightlife = two_biz_reviews[two_biz_reviews['target'] == True]\n",
    "restaurants = two_biz_reviews[two_biz_reviews['target'] == False]\n",
    "\n",
    "nightlife_subset = nightlife.sample(frac=0.1, random_state=123)\n",
    "restaurants_subset = restaurants.sample(frac=0.021, random_state=123)\n",
    "\n",
    "two_biz_reviews_subset = pd.concat([nightlife_subset, restaurants_subset])\n",
    "\n",
    "from sklearn.model_selection import train_test_split\n",
    "\n",
    "train_data, test_data = train_test_split(two_biz_reviews_subset, train_size=0.7, random_state=123)\n",
    "\n",
    "print(train_data.shape)\n",
    "print(test_data.shape)\n"
   ]
  },
  {
   "cell_type": "markdown",
   "metadata": {},
   "source": [
    "### Transform features"
   ]
  },
  {
   "cell_type": "code",
   "execution_count": 23,
   "metadata": {},
   "outputs": [],
   "source": [
    "from sklearn.feature_extraction.text import CountVectorizer\n",
    "\n",
    "bow_transform = CountVectorizer()\n",
    "X_tr_bow = bow_transform.fit_transform(train_data['text'])\n",
    "X_te_bow = bow_transform.transform(test_data['text'])\n",
    "\n",
    "y_tr = train_data['target']\n",
    "y_te = test_data['target']"
   ]
  },
  {
   "cell_type": "markdown",
   "metadata": {},
   "source": [
    "### Create the tf-idf representation using the bag-of-words matrix"
   ]
  },
  {
   "cell_type": "code",
   "execution_count": 24,
   "metadata": {},
   "outputs": [],
   "source": [
    "from sklearn.feature_extraction.text import TfidfTransformer\n",
    "\n",
    "tfidf_transformer = TfidfTransformer(norm=None)\n",
    "\n",
    "X_tr_tfidf = tfidf_transformer.fit_transform(X_tr_bow)\n",
    "X_te_tfidf = tfidf_transformer.transform(X_te_bow)\n",
    "\n",
    "# l2-normalize the bag-of-words representation\n",
    "from sklearn.preprocessing import normalize\n",
    "\n",
    "X_tr_l2 = normalize(X_tr_bow, axis=0)\n",
    "X_te_l2 = normalize(X_te_bow, axis=0)"
   ]
  },
  {
   "cell_type": "markdown",
   "metadata": {},
   "source": [
    "### Training logistic regression classifiers with default parameters"
   ]
  },
  {
   "cell_type": "code",
   "execution_count": 35,
   "metadata": {},
   "outputs": [
    {
     "name": "stdout",
     "output_type": "stream",
     "text": [
      "Test score with bow features: 0.7762588965988618\n",
      "Test score with l2-normalized features: 0.7396026804950893\n",
      "Test score with tf-idf features: 0.7431687493499354\n"
     ]
    }
   ],
   "source": [
    "from sklearn.linear_model import LogisticRegression\n",
    "\n",
    "def simple_logistic_classify(X_tr, y_tr, X_test, y_test, description, _C = 1.0):\n",
    "    m = LogisticRegression(max_iter=100000, C=_C).fit(X_tr, y_tr)\n",
    "    s = m.score(X_test, y_test)\n",
    "    print(\"Test score with\", description, 'features:', s)\n",
    "    return m\n",
    "\n",
    "m1 = simple_logistic_classify(X_tr_bow, y_tr, X_te_bow, y_te, 'bow')\n",
    "m2 = simple_logistic_classify(X_tr_l2, y_tr, X_te_l2, y_te, 'l2-normalized')\n",
    "m3 = simple_logistic_classify(X_tr_tfidf, y_tr, X_te_tfidf, y_te, 'tf-idf')"
   ]
  },
  {
   "cell_type": "markdown",
   "metadata": {},
   "source": [
    "### Tuning logistic regression hyperparameters with grid search"
   ]
  },
  {
   "cell_type": "code",
   "execution_count": 31,
   "metadata": {},
   "outputs": [
    {
     "data": {
      "text/plain": [
       "{'mean_fit_time': array([  0.89215436,   2.56032996,  16.96586623,  43.93997045,\n",
       "        103.06509686, 209.97738934]),\n",
       " 'std_fit_time': array([0.07225911, 0.23965556, 0.6055843 , 2.43627965, 2.40169205,\n",
       "        7.4276638 ]),\n",
       " 'mean_score_time': array([0.00515127, 0.00548601, 0.00549655, 0.00922217, 0.00588489,\n",
       "        0.00599341]),\n",
       " 'std_score_time': array([0.00041716, 0.00085688, 0.00031725, 0.00516588, 0.00055584,\n",
       "        0.00082607]),\n",
       " 'param_C': masked_array(data=[1e-05, 0.001, 0.1, 1.0, 10.0, 100.0],\n",
       "              mask=[False, False, False, False, False, False],\n",
       "        fill_value='?',\n",
       "             dtype=object),\n",
       " 'params': [{'C': 1e-05},\n",
       "  {'C': 0.001},\n",
       "  {'C': 0.1},\n",
       "  {'C': 1.0},\n",
       "  {'C': 10.0},\n",
       "  {'C': 100.0}],\n",
       " 'split0_test_score': array([0.68561149, 0.74384691, 0.77613271, 0.77068806, 0.75610533,\n",
       "        0.73642818]),\n",
       " 'split1_test_score': array([0.68561149, 0.74400611, 0.77336263, 0.76915974, 0.75241188,\n",
       "        0.73442226]),\n",
       " 'split2_test_score': array([0.68557965, 0.74502499, 0.77460439, 0.76935078, 0.75253924,\n",
       "        0.73200242]),\n",
       " 'split3_test_score': array([0.68557965, 0.74308275, 0.77154774, 0.76390614, 0.74925972,\n",
       "        0.7303149 ]),\n",
       " 'split4_test_score': array([0.68557965, 0.74295539, 0.77282135, 0.7697647 , 0.75260292,\n",
       "        0.73212978]),\n",
       " 'mean_test_score': array([0.68559238, 0.74378323, 0.77369376, 0.76857388, 0.75258382,\n",
       "        0.73305951]),\n",
       " 'std_test_score': array([1.55983682e-05, 7.44539595e-04, 1.56549396e-03, 2.39259172e-03,\n",
       "        2.16714426e-03, 2.13165650e-03]),\n",
       " 'rank_test_score': array([6, 4, 1, 2, 3, 5], dtype=int32)}"
      ]
     },
     "execution_count": 31,
     "metadata": {},
     "output_type": "execute_result"
    }
   ],
   "source": [
    "from sklearn.model_selection import GridSearchCV\n",
    "from sklearn.linear_model import LogisticRegression\n",
    "\n",
    "params = {'C': [1e-5, 1e-3, 1e-1, 1e0, 1e1, 1e2]}\n",
    "\n",
    "bow_search = GridSearchCV(LogisticRegression(max_iter=100000), cv=5, param_grid=params)\n",
    "bow_search.fit(X_tr_bow, y_tr)\n",
    "\n",
    "l2_search = GridSearchCV(LogisticRegression(max_iter=100000), cv=5, param_grid=params)\n",
    "l2_search.fit(X_tr_l2, y_tr)\n",
    "\n",
    "tfidf_search = GridSearchCV(LogisticRegression(max_iter=100000), cv=5, param_grid=params)\n",
    "tfidf_search.fit(X_tr_tfidf, y_tr)\n",
    "\n",
    "bow_search.cv_results_"
   ]
  },
  {
   "cell_type": "code",
   "execution_count": 34,
   "metadata": {},
   "outputs": [
    {
     "data": {
      "image/png": "[encoded data removed]",
      "text/plain": [
       "<Figure size 640x480 with 1 Axes>"
      ]
     },
     "metadata": {},
     "output_type": "display_data"
    }
   ],
   "source": [
    "search_results = pd.DataFrame.from_dict({\n",
    "    'bow': bow_search.cv_results_['mean_test_score'], \n",
    "    'tfidf': tfidf_search.cv_results_['mean_test_score'], \n",
    "    'l2': l2_search.cv_results_['mean_test_score']})\n",
    "\n",
    "import matplotlib.pyplot as plt\n",
    "import seaborn as sns\n",
    "\n",
    "sns.set_style(\"whitegrid\")\n",
    "ax = sns.boxplot(data=search_results, width=0.4)\n",
    "ax.set_ylabel('Accuracy', size=14)\n",
    "ax.tick_params(labelsize=14)"
   ]
  },
  {
   "cell_type": "markdown",
   "metadata": {},
   "source": [
    "### Final training and testing step to compare the different feature sets"
   ]
  },
  {
   "cell_type": "code",
   "execution_count": 37,
   "metadata": {},
   "outputs": [
    {
     "name": "stdout",
     "output_type": "stream",
     "text": [
      "Test score with bow features: 0.7806421895662768\n",
      "Test score with l2-normalized features: 0.7778933448239996\n",
      "Test score with tf-idf features: 0.7813999791979317\n"
     ]
    }
   ],
   "source": [
    "m1 = simple_logistic_classify(X_tr_bow, y_tr, X_te_bow, y_te, 'bow', _C=bow_search.best_params_['C'])\n",
    "m2 = simple_logistic_classify(X_tr_l2, y_tr, X_te_l2, y_te, 'l2-normalized', _C=l2_search.best_params_['C'])\n",
    "m3 = simple_logistic_classify(X_tr_tfidf, y_tr, X_te_tfidf, y_te, 'tf-idf', _C=tfidf_search.best_params_['C'])"
   ]
  }
 ],
 "metadata": {
  "kernelspec": {
   "display_name": "base",
   "language": "python",
   "name": "python3"
  },
  "language_info": {
   "codemirror_mode": {
    "name": "ipython",
    "version": 3
   },
   "file_extension": ".py",
   "mimetype": "text/x-python",
   "name": "python",
   "nbconvert_exporter": "python",
   "pygments_lexer": "ipython3",
   "version": "3.11.7"
  }
 },
 "nbformat": 4,
 "nbformat_minor": 2
}
