{
 "cells": [
  {
   "cell_type": "code",
   "execution_count": 9,
   "metadata": {},
   "outputs": [
    {
     "name": "stdout",
     "output_type": "stream",
     "text": [
      "24570 293936 689172\n"
     ]
    }
   ],
   "source": [
    "import json\n",
    "import pandas as pd\n",
    "from sklearn.feature_extraction.text import CountVectorizer\n",
    "\n",
    "file = open(\"/Users/ktxdev/Documents/MS in AI/Data Acquisition & Management/Datasets/yelp/yelp_academic_dataset_review.json\")\n",
    "json_data = []\n",
    "\n",
    "for i in range(10000):\n",
    "    json_data.append(json.loads(file.readline()))\n",
    "\n",
    "file.close()\n",
    "\n",
    "review_df = pd.DataFrame(json_data)\n",
    "\n",
    "bow_convertor = CountVectorizer(token_pattern='(?u)\\\\b\\\\w+\\\\b')\n",
    "bigram_convertor = CountVectorizer(ngram_range=(2,2), token_pattern='(?u)\\\\b\\\\w+\\\\b')\n",
    "trigram_convertor = CountVectorizer(ngram_range=(3,3), token_pattern='(?u)\\\\b\\\\w+\\\\b')\n",
    "\n",
    "bow_convertor.fit(review_df['text'])\n",
    "words = bow_convertor.get_feature_names_out()\n",
    "\n",
    "bigram_convertor.fit(review_df['text'])\n",
    "bigrams = bigram_convertor.get_feature_names_out()\n",
    "\n",
    "trigram_convertor.fit(review_df['text'])\n",
    "trigrams = trigram_convertor.get_feature_names_out()\n",
    "\n",
    "print(len(words), len(bigrams), len(trigrams))\n"
   ]
  }
 ],
 "metadata": {
  "kernelspec": {
   "display_name": "base",
   "language": "python",
   "name": "python3"
  },
  "language_info": {
   "codemirror_mode": {
    "name": "ipython",
    "version": 3
   },
   "file_extension": ".py",
   "mimetype": "text/x-python",
   "name": "python",
   "nbconvert_exporter": "python",
   "pygments_lexer": "ipython3",
   "version": "3.11.7"
  }
 },
 "nbformat": 4,
 "nbformat_minor": 2
}
