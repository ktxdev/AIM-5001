{
 "cells": [
  {
   "cell_type": "markdown",
   "metadata": {},
   "source": [
    "## Introduction"
   ]
  },
  {
   "cell_type": "markdown",
   "metadata": {},
   "source": [
    "## Data Preperation"
   ]
  },
  {
   "cell_type": "markdown",
   "metadata": {},
   "source": [
    "### Load Data from Github"
   ]
  },
  {
   "cell_type": "markdown",
   "metadata": {},
   "source": [
    "The code below uses the requests library to fetch contnets of the projects repository and fetches each text document in the sub directories 'pos' and 'neg'. The documents fetched are used to create a Dataframe with all reviews and the type of the review (as either 'neg' or 'pos')"
   ]
  },
  {
   "cell_type": "code",
   "execution_count": 38,
   "metadata": {},
   "outputs": [
    {
     "data": {
      "text/html": [
       "<div>\n",
       "<style scoped>\n",
       "    .dataframe tbody tr th:only-of-type {\n",
       "        vertical-align: middle;\n",
       "    }\n",
       "\n",
       "    .dataframe tbody tr th {\n",
       "        vertical-align: top;\n",
       "    }\n",
       "\n",
       "    .dataframe thead th {\n",
       "        text-align: right;\n",
       "    }\n",
       "</style>\n",
       "<table border=\"1\" class=\"dataframe\">\n",
       "  <thead>\n",
       "    <tr style=\"text-align: right;\">\n",
       "      <th></th>\n",
       "      <th>text</th>\n",
       "      <th>type</th>\n",
       "    </tr>\n",
       "  </thead>\n",
       "  <tbody>\n",
       "    <tr>\n",
       "      <th>0</th>\n",
       "      <td>plot : two teen couples go to a church party ,...</td>\n",
       "      <td>neg</td>\n",
       "    </tr>\n",
       "    <tr>\n",
       "      <th>0</th>\n",
       "      <td>the happy bastard's quick movie review \\ndamn ...</td>\n",
       "      <td>neg</td>\n",
       "    </tr>\n",
       "    <tr>\n",
       "      <th>0</th>\n",
       "      <td>it is movies like these that make a jaded movi...</td>\n",
       "      <td>neg</td>\n",
       "    </tr>\n",
       "    <tr>\n",
       "      <th>0</th>\n",
       "      <td>\" quest for camelot \" is warner bros . ' firs...</td>\n",
       "      <td>neg</td>\n",
       "    </tr>\n",
       "    <tr>\n",
       "      <th>0</th>\n",
       "      <td>synopsis : a mentally unstable man undergoing ...</td>\n",
       "      <td>neg</td>\n",
       "    </tr>\n",
       "  </tbody>\n",
       "</table>\n",
       "</div>"
      ],
      "text/plain": [
       "                                                text type\n",
       "0  plot : two teen couples go to a church party ,...  neg\n",
       "0  the happy bastard's quick movie review \\ndamn ...  neg\n",
       "0  it is movies like these that make a jaded movi...  neg\n",
       "0   \" quest for camelot \" is warner bros . ' firs...  neg\n",
       "0  synopsis : a mentally unstable man undergoing ...  neg"
      ]
     },
     "execution_count": 38,
     "metadata": {},
     "output_type": "execute_result"
    }
   ],
   "source": [
    "import requests\n",
    "import pandas as pd\n",
    "\n",
    "base_url = \"https://api.github.com/repos/ktxdev/AIM-5001/contents/\"\n",
    "\n",
    "def create_reviews_dataframe(df, base_url, path):\n",
    "    url = f\"{base_url}{path}\"\n",
    "    response = requests.get(url)\n",
    "\n",
    "    # Process response if request was successful\n",
    "    if response.status_code == 200:\n",
    "        # Store json content from the request\n",
    "        contents = response.json()\n",
    "\n",
    "        # Iterate over each item in the response's json content\n",
    "        for item in contents:\n",
    "            # Validate the type of item \n",
    "            if item['type'] == 'file':\n",
    "                # Get the file \n",
    "                review = requests.get(item['download_url'])\n",
    "                # Get text contained in the file\n",
    "                text = review.text\n",
    "                # Get type of review from path\n",
    "                type = 'pos' if path.endswith('pos') else 'neg'\n",
    "                # Create a dataframe for the current file\n",
    "                df2 = pd.DataFrame({'text': [text], 'type': [type]})\n",
    "                # Append the dataframe to the main dataframe\n",
    "                df = pd.concat([df, df2])\n",
    "            elif item['type'] == 'dir':\n",
    "                # Recursive call \n",
    "                return create_reviews_dataframe(df, base_url, item['path'])\n",
    "    else:\n",
    "        print(f\"Failed to fetch directory contents with status code: {response.status_code}\")\n",
    "    \n",
    "    return df\n",
    "\n",
    "reviews_df = create_reviews_dataframe(pd.DataFrame(columns=['text', 'type']), base_url, \"M12/Assn/1.%20Data\")\n",
    "reviews_df.head()"
   ]
  },
  {
   "cell_type": "markdown",
   "metadata": {},
   "source": [
    "### Preprocessing the data"
   ]
  },
  {
   "cell_type": "markdown",
   "metadata": {},
   "source": [
    "In this step I will preprocess the data by converting it to lower case, removing all panctuations and stop words"
   ]
  },
  {
   "cell_type": "code",
   "execution_count": 41,
   "metadata": {},
   "outputs": [
    {
     "data": {
      "text/html": [
       "<div>\n",
       "<style scoped>\n",
       "    .dataframe tbody tr th:only-of-type {\n",
       "        vertical-align: middle;\n",
       "    }\n",
       "\n",
       "    .dataframe tbody tr th {\n",
       "        vertical-align: top;\n",
       "    }\n",
       "\n",
       "    .dataframe thead th {\n",
       "        text-align: right;\n",
       "    }\n",
       "</style>\n",
       "<table border=\"1\" class=\"dataframe\">\n",
       "  <thead>\n",
       "    <tr style=\"text-align: right;\">\n",
       "      <th></th>\n",
       "      <th>text</th>\n",
       "      <th>type</th>\n",
       "    </tr>\n",
       "  </thead>\n",
       "  <tbody>\n",
       "    <tr>\n",
       "      <th>0</th>\n",
       "      <td>plot two teen couple go church party drink dri...</td>\n",
       "      <td>neg</td>\n",
       "    </tr>\n",
       "    <tr>\n",
       "      <th>0</th>\n",
       "      <td>happy bastard's quick movie review damn y2k bu...</td>\n",
       "      <td>neg</td>\n",
       "    </tr>\n",
       "    <tr>\n",
       "      <th>0</th>\n",
       "      <td>movie like make jaded movie viewer thankful in...</td>\n",
       "      <td>neg</td>\n",
       "    </tr>\n",
       "    <tr>\n",
       "      <th>0</th>\n",
       "      <td>quest camelot warner bros first feature-length...</td>\n",
       "      <td>neg</td>\n",
       "    </tr>\n",
       "    <tr>\n",
       "      <th>0</th>\n",
       "      <td>synopsis mentally unstable man undergoing psyc...</td>\n",
       "      <td>neg</td>\n",
       "    </tr>\n",
       "  </tbody>\n",
       "</table>\n",
       "</div>"
      ],
      "text/plain": [
       "                                                text type\n",
       "0  plot two teen couple go church party drink dri...  neg\n",
       "0  happy bastard's quick movie review damn y2k bu...  neg\n",
       "0  movie like make jaded movie viewer thankful in...  neg\n",
       "0  quest camelot warner bros first feature-length...  neg\n",
       "0  synopsis mentally unstable man undergoing psyc...  neg"
      ]
     },
     "execution_count": 41,
     "metadata": {},
     "output_type": "execute_result"
    }
   ],
   "source": [
    "import string\n",
    "from nltk.corpus import stopwords\n",
    "from nltk.stem import WordNetLemmatizer\n",
    "\n",
    "english_stopwords = stopwords.words('english')\n",
    "\n",
    "# Converting text to lowercase\n",
    "reviews_df['text'] = reviews_df['text'].str.lower()\n",
    "# Remove panctuations\n",
    "reviews_df['text'] = reviews_df['text'].apply(lambda x: ' '.join(x for x in x.split() if x not in string.punctuation))\n",
    "# Remove stopwords\n",
    "reviews_df['text'] = reviews_df['text'].apply(lambda x: ' '.join(x for x in x.split() if x not in english_stopwords))\n",
    "# Lemmatize the words\n",
    "lemmatizer = WordNetLemmatizer()\n",
    "reviews_df['text'] = reviews_df['text'].apply(lambda x: ' '.join(lemmatizer.lemmatize(x) for x in x.split()))\n",
    "reviews_df.head()\n"
   ]
  },
  {
   "cell_type": "markdown",
   "metadata": {},
   "source": [
    "### Creating the Term-Document Matrix"
   ]
  },
  {
   "cell_type": "code",
   "execution_count": 46,
   "metadata": {},
   "outputs": [
    {
     "ename": "TypeError",
     "evalue": "unhashable type: 'list'",
     "output_type": "error",
     "traceback": [
      "\u001b[0;31m---------------------------------------------------------------------------\u001b[0m",
      "\u001b[0;31mTypeError\u001b[0m                                 Traceback (most recent call last)",
      "Cell \u001b[0;32mIn[46], line 1\u001b[0m\n\u001b[0;32m----> 1\u001b[0m \u001b[38;5;28mset\u001b[39m(reviews_df[\u001b[38;5;124m'\u001b[39m\u001b[38;5;124mtext\u001b[39m\u001b[38;5;124m'\u001b[39m]\u001b[38;5;241m.\u001b[39mstr\u001b[38;5;241m.\u001b[39msplit())\n",
      "\u001b[0;31mTypeError\u001b[0m: unhashable type: 'list'"
     ]
    }
   ],
   "source": [
    "set()"
   ]
  },
  {
   "cell_type": "code",
   "execution_count": null,
   "metadata": {},
   "outputs": [],
   "source": []
  }
 ],
 "metadata": {
  "kernelspec": {
   "display_name": "base",
   "language": "python",
   "name": "python3"
  },
  "language_info": {
   "codemirror_mode": {
    "name": "ipython",
    "version": 3
   },
   "file_extension": ".py",
   "mimetype": "text/x-python",
   "name": "python",
   "nbconvert_exporter": "python",
   "pygments_lexer": "ipython3",
   "version": "3.11.7"
  }
 },
 "nbformat": 4,
 "nbformat_minor": 2
}
