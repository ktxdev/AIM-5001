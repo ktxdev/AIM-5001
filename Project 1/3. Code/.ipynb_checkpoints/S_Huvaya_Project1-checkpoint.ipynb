{
 "cells": [
  {
   "cell_type": "code",
   "execution_count": 102,
   "id": "8cd24cf1-c9d9-4059-bd47-b12f9cceaaca",
   "metadata": {
    "tags": []
   },
   "outputs": [],
   "source": [
    "import csv\n",
    "import psycopg2\n",
    "import sqlalchemy\n",
    "import pandas as pd\n",
    "\n",
    "from datetime import datetime"
   ]
  },
  {
   "cell_type": "markdown",
   "id": "1ccdd18b-d824-47fc-9ed6-1d75fd4bf2b4",
   "metadata": {},
   "source": [
    "# Introduction\n",
    "The dataset that the student worked with contains data on the people and households that are eligible for Medicaid, Cash Assistance, and/or SNAP. \"How does the distribution of Medicaid (MA) enrollees vary across different boroughs and community districts in NYC, and are there any notable disparities in enrollment rates?\" is the question the student hopes to address with this project."
   ]
  },
  {
   "cell_type": "markdown",
   "id": "2e4c38a1-52e4-4718-b61a-83cc0785c2f3",
   "metadata": {},
   "source": [
    "# Data Summary\n",
    "The data was acquired from Data.gov, a repository of various public datasets provided by the United States government. This data was then put into a csv file stored on github."
   ]
  },
  {
   "cell_type": "code",
   "execution_count": 31,
   "id": "f16c24b9-f373-49e1-b660-a81eacf07076",
   "metadata": {
    "tags": []
   },
   "outputs": [],
   "source": [
    "drs_data = pd.read_csv('https://raw.githubusercontent.com/ktxdev/AIM-5001/main/Project%201/2.%20Data/DRS.csv')"
   ]
  },
  {
   "cell_type": "markdown",
   "id": "a51508df-f359-4f83-ba64-dd388588a7b2",
   "metadata": {
    "tags": []
   },
   "source": [
    "### Cases"
   ]
  },
  {
   "cell_type": "code",
   "execution_count": 32,
   "id": "eda53a2f-0e4c-4a45-9bef-8b818d5b3a8a",
   "metadata": {
    "tags": []
   },
   "outputs": [
    {
     "name": "stdout",
     "output_type": "stream",
     "text": [
      "Number of cases:  354\n",
      "Number of attributes per case:  354\n"
     ]
    }
   ],
   "source": [
    "print(\"Number of cases: \", len(drs_data))\n",
    "print(\"Number of attributes per case: \", len(drs_data))"
   ]
  },
  {
   "cell_type": "markdown",
   "id": "62da7440-9631-4fe4-866d-b417ac2428a1",
   "metadata": {
    "tags": []
   },
   "source": [
    "### Data types of attributes"
   ]
  },
  {
   "cell_type": "code",
   "execution_count": 33,
   "id": "77cbfce9-2c78-43a4-904c-cb3f18fc872e",
   "metadata": {
    "tags": []
   },
   "outputs": [
    {
     "data": {
      "text/plain": [
       "Data published in District Resource Statement                             object\n",
       "Data as of                                                                object\n",
       "Borough                                                                   object\n",
       "Community District                                                        object\n",
       "DRS Medicaid (MA) Only Enrollees                                           int64\n",
       "DRS Total Medicaid (MA) Enrollees                                          int64\n",
       "DRS Cash Assistance (CA) Recipients                                        int64\n",
       "DRS Cash Assistance (CA) Cases                                             int64\n",
       "DRS Total Supplemental Nutrition Assistance Program (SNAP)  Recipients     int64\n",
       "DRS Total Supplemental Nutrition Assistance Program (SNAP)  Households     int64\n",
       "dtype: object"
      ]
     },
     "execution_count": 33,
     "metadata": {},
     "output_type": "execute_result"
    }
   ],
   "source": [
    "drs_data.dtypes"
   ]
  },
  {
   "cell_type": "markdown",
   "id": "b2dc85ad-e229-4e29-ad31-c20898344eaf",
   "metadata": {},
   "source": [
    "### Descriptive statistics for Numerical Variables"
   ]
  },
  {
   "cell_type": "code",
   "execution_count": 34,
   "id": "966ca44d-6aa9-4304-8a1d-68450e4e9d00",
   "metadata": {
    "tags": []
   },
   "outputs": [
    {
     "data": {
      "text/html": [
       "<div>\n",
       "<style scoped>\n",
       "    .dataframe tbody tr th:only-of-type {\n",
       "        vertical-align: middle;\n",
       "    }\n",
       "\n",
       "    .dataframe tbody tr th {\n",
       "        vertical-align: top;\n",
       "    }\n",
       "\n",
       "    .dataframe thead th {\n",
       "        text-align: right;\n",
       "    }\n",
       "</style>\n",
       "<table border=\"1\" class=\"dataframe\">\n",
       "  <thead>\n",
       "    <tr style=\"text-align: right;\">\n",
       "      <th></th>\n",
       "      <th>DRS Medicaid (MA) Only Enrollees</th>\n",
       "      <th>DRS Total Medicaid (MA) Enrollees</th>\n",
       "      <th>DRS Cash Assistance (CA) Recipients</th>\n",
       "      <th>DRS Cash Assistance (CA) Cases</th>\n",
       "      <th>DRS Total Supplemental Nutrition Assistance Program (SNAP)  Recipients</th>\n",
       "      <th>DRS Total Supplemental Nutrition Assistance Program (SNAP)  Households</th>\n",
       "    </tr>\n",
       "  </thead>\n",
       "  <tbody>\n",
       "    <tr>\n",
       "      <th>count</th>\n",
       "      <td>354.000000</td>\n",
       "      <td>354.000000</td>\n",
       "      <td>354.000000</td>\n",
       "      <td>354.000000</td>\n",
       "      <td>354.000000</td>\n",
       "      <td>354.000000</td>\n",
       "    </tr>\n",
       "    <tr>\n",
       "      <th>mean</th>\n",
       "      <td>14684.333333</td>\n",
       "      <td>27183.819209</td>\n",
       "      <td>6361.305085</td>\n",
       "      <td>3460.081921</td>\n",
       "      <td>27602.709040</td>\n",
       "      <td>16097.485876</td>\n",
       "    </tr>\n",
       "    <tr>\n",
       "      <th>std</th>\n",
       "      <td>8400.397596</td>\n",
       "      <td>13420.794009</td>\n",
       "      <td>4653.442781</td>\n",
       "      <td>2348.526239</td>\n",
       "      <td>15391.991415</td>\n",
       "      <td>8097.041116</td>\n",
       "    </tr>\n",
       "    <tr>\n",
       "      <th>min</th>\n",
       "      <td>1410.000000</td>\n",
       "      <td>2512.000000</td>\n",
       "      <td>315.000000</td>\n",
       "      <td>263.000000</td>\n",
       "      <td>1965.000000</td>\n",
       "      <td>1511.000000</td>\n",
       "    </tr>\n",
       "    <tr>\n",
       "      <th>25%</th>\n",
       "      <td>9055.000000</td>\n",
       "      <td>17370.250000</td>\n",
       "      <td>2942.750000</td>\n",
       "      <td>1751.000000</td>\n",
       "      <td>16542.750000</td>\n",
       "      <td>10167.000000</td>\n",
       "    </tr>\n",
       "    <tr>\n",
       "      <th>50%</th>\n",
       "      <td>13409.500000</td>\n",
       "      <td>26647.500000</td>\n",
       "      <td>4647.500000</td>\n",
       "      <td>2688.000000</td>\n",
       "      <td>24706.000000</td>\n",
       "      <td>14928.000000</td>\n",
       "    </tr>\n",
       "    <tr>\n",
       "      <th>75%</th>\n",
       "      <td>18482.500000</td>\n",
       "      <td>36842.250000</td>\n",
       "      <td>9683.250000</td>\n",
       "      <td>5205.750000</td>\n",
       "      <td>39043.250000</td>\n",
       "      <td>21409.000000</td>\n",
       "    </tr>\n",
       "    <tr>\n",
       "      <th>max</th>\n",
       "      <td>52525.000000</td>\n",
       "      <td>70448.000000</td>\n",
       "      <td>18953.000000</td>\n",
       "      <td>10071.000000</td>\n",
       "      <td>67294.000000</td>\n",
       "      <td>38992.000000</td>\n",
       "    </tr>\n",
       "  </tbody>\n",
       "</table>\n",
       "</div>"
      ],
      "text/plain": [
       "       DRS Medicaid (MA) Only Enrollees  DRS Total Medicaid (MA) Enrollees  \\\n",
       "count                        354.000000                         354.000000   \n",
       "mean                       14684.333333                       27183.819209   \n",
       "std                         8400.397596                       13420.794009   \n",
       "min                         1410.000000                        2512.000000   \n",
       "25%                         9055.000000                       17370.250000   \n",
       "50%                        13409.500000                       26647.500000   \n",
       "75%                        18482.500000                       36842.250000   \n",
       "max                        52525.000000                       70448.000000   \n",
       "\n",
       "       DRS Cash Assistance (CA) Recipients  DRS Cash Assistance (CA) Cases  \\\n",
       "count                           354.000000                      354.000000   \n",
       "mean                           6361.305085                     3460.081921   \n",
       "std                            4653.442781                     2348.526239   \n",
       "min                             315.000000                      263.000000   \n",
       "25%                            2942.750000                     1751.000000   \n",
       "50%                            4647.500000                     2688.000000   \n",
       "75%                            9683.250000                     5205.750000   \n",
       "max                           18953.000000                    10071.000000   \n",
       "\n",
       "       DRS Total Supplemental Nutrition Assistance Program (SNAP)  Recipients  \\\n",
       "count                                         354.000000                        \n",
       "mean                                        27602.709040                        \n",
       "std                                         15391.991415                        \n",
       "min                                          1965.000000                        \n",
       "25%                                         16542.750000                        \n",
       "50%                                         24706.000000                        \n",
       "75%                                         39043.250000                        \n",
       "max                                         67294.000000                        \n",
       "\n",
       "       DRS Total Supplemental Nutrition Assistance Program (SNAP)  Households  \n",
       "count                                         354.000000                       \n",
       "mean                                        16097.485876                       \n",
       "std                                          8097.041116                       \n",
       "min                                          1511.000000                       \n",
       "25%                                         10167.000000                       \n",
       "50%                                         14928.000000                       \n",
       "75%                                         21409.000000                       \n",
       "max                                         38992.000000                       "
      ]
     },
     "execution_count": 34,
     "metadata": {},
     "output_type": "execute_result"
    }
   ],
   "source": [
    "drs_data.describe()"
   ]
  },
  {
   "cell_type": "markdown",
   "id": "78cfbea3-fd93-4594-9a2c-61ee40db2ce5",
   "metadata": {
    "tags": []
   },
   "source": [
    "### Descriptive statistics for Categorical Variables"
   ]
  },
  {
   "cell_type": "code",
   "execution_count": 35,
   "id": "b0899ab2-1752-4bdb-b0dd-ed24f15c74f6",
   "metadata": {
    "tags": []
   },
   "outputs": [
    {
     "name": "stdout",
     "output_type": "stream",
     "text": [
      "Boroughs:  5\n",
      "Community Districts:  59\n"
     ]
    }
   ],
   "source": [
    "print(\"Boroughs: \", len(drs_data['Borough'].unique()))\n",
    "print(\"Community Districts: \", len(drs_data['Community District'].unique()))"
   ]
  },
  {
   "cell_type": "markdown",
   "id": "2ad281f1-1cc9-409f-923a-46b5a919b627",
   "metadata": {},
   "source": [
    "# Data Management using PostgreSQL"
   ]
  },
  {
   "cell_type": "markdown",
   "id": "7cdffeff-f425-41cb-97c0-cc968c1275ac",
   "metadata": {
    "tags": []
   },
   "source": [
    "## ER Diagram for District Resource Statement database\n",
    "![ER Diagram](https://raw.githubusercontent.com/ktxdev/AIM-5001/main/Project%201/1.%20Literature/ER%20Diagram.png)\n",
    "\n",
    "## SQL Statements to create database and tables\n",
    "### Statement to create database\n",
    "```sql\n",
    "CREATE DATABASE drs;\n",
    "```\n",
    "### Statements to create tables\n",
    "```sql\n",
    "CREATE TABLE borough (\n",
    "    id INT GENERATED ALWAYS AS IDENTITY,\n",
    "    name VARCHAR (50) UNIQUE NOT NULL,\n",
    "    PRIMARY KEY(id)\n",
    ");\n",
    "    \n",
    "CREATE TABLE community_district (\n",
    "    id INT GENERATED ALWAYS AS IDENTITY,\n",
    "    borough_id INT,\n",
    "    name VARCHAR(20) NOT NULL,\n",
    "\n",
    "    PRIMARY KEY(id),\n",
    "    CONSTRAINT fk_borough FOREIGN KEY(borough_id) REFERENCES borough(id) ON DELETE CASCADE\n",
    ");\n",
    "    \n",
    "CREATE TABLE drs_case (\n",
    "    id INT GENERATED ALWAYS AS IDENTITY,\n",
    "    medicaid_only_enrollee INT NOT NULL,\n",
    "    total_medicaid_only_enrollee INT NOT NULL,\n",
    "    cash_assistance_recipients INT NOT NULL,\n",
    "    cash_assistance_cases INT NOT NULL,\n",
    "    total_snap_recipients INT NOT NULL,\n",
    "    total_snap_households INT NOT NULL,\n",
    "    date_published INT NOT NULL,\n",
    "    date_as_of TIMESTAMP NOT NULL,\n",
    "    community_district_id INT NOT NULL,\n",
    "\n",
    "    PRIMARY KEY(id),\n",
    "    CONSTRAINT fk_community_district FOREIGN KEY(community_district_id) REFERENCES community_district(id)\n",
    ");\n",
    "```\n",
    "\n",
    "## Connecting to database and pre-loading data to PostgreSQL database"
   ]
  },
  {
   "cell_type": "code",
   "execution_count": 128,
   "id": "f623ffc3-b0a5-4f92-92c7-0aa098e161d6",
   "metadata": {},
   "outputs": [
    {
     "name": "stdout",
     "output_type": "stream",
     "text": [
      "Data pre-loaded successfully!\n"
     ]
    }
   ],
   "source": [
    "conn = psycopg2.connect(\n",
    "    host=\"localhost\",\n",
    "    port=5433,\n",
    "    database=\"drs\",\n",
    "    user=\"aim5001\",\n",
    "    password=\"password\")\n",
    "\n",
    "# Create a cursor object\n",
    "cur = conn.cursor()\n",
    "\n",
    "boroughs_dict = {}\n",
    "boroughs = drs_data['Borough'].unique() # Getting unique borough names\n",
    "\n",
    "for borough in boroughs:\n",
    "    sql = f\"INSERT INTO borough (name) VALUES ('{borough}') RETURNING *\"\n",
    "    \n",
    "    cur.execute(sql)\n",
    "    \n",
    "    results = cur.fetchall()\n",
    "    \n",
    "    for borough_id, name in results:\n",
    "        boroughs_dict[name] = borough_id\n",
    "\n",
    "borough_and_district_dict = {}\n",
    "borough_and_district_data = drs_data.loc[:, ['Borough','Community District']].groupby(['Borough','Community District'])\n",
    "\n",
    "for (name, code), _ in borough_and_district_data:\n",
    "    sql = f\"INSERT INTO community_district (borough_id, name) VALUES ({boroughs_dict[name]}, '{code}') RETURNING id, name\"\n",
    "    \n",
    "    cur.execute(sql)\n",
    "    \n",
    "    results = cur.fetchall()\n",
    "    \n",
    "    for community_district_id, name in results:\n",
    "        borough_and_district_dict[name] = community_district_id\n",
    "\n",
    "for index, row in drs_data.iterrows():\n",
    "    sql = f\"\"\"INSERT INTO drs_case (\n",
    "                    medicaid_only_enrollee, \n",
    "                    total_medicaid_only_enrollee, \n",
    "                    cash_assistance_recipients, \n",
    "                    cash_assistance_cases, \n",
    "                    total_snap_recipients,\n",
    "                    total_snap_households, \n",
    "                    date_published, \n",
    "                    date_as_of, \n",
    "                    community_district_id)\n",
    "                VALUES (\n",
    "                    {row['DRS Medicaid (MA) Only Enrollees']},\n",
    "                    {row['DRS Total Medicaid (MA) Enrollees']},\n",
    "                    {row['DRS Cash Assistance (CA) Recipients']},\n",
    "                    {row['DRS Cash Assistance (CA) Cases']},\n",
    "                    {row['DRS Total Supplemental Nutrition Assistance Program (SNAP)  Recipients']},\n",
    "                    {row['DRS Total Supplemental Nutrition Assistance Program (SNAP)  Households']},\n",
    "                    {int(row['Data published in District Resource Statement'].replace(\"FY \", \"\"))},\n",
    "                    TIMESTAMP '{datetime.strptime(row['Data as of'], '%m/%d/%Y').strftime('%Y-%m-%d %H:%M:%S')}',\n",
    "                    {borough_and_district_dict[row['Community District']]}\n",
    "                )\"\"\"\n",
    "    cur.execute(sql)\n",
    "    \n",
    "conn.commit()\n",
    "\n",
    "cur.execute(\"SELECT COUNT(*) FROM drs_case\")\n",
    "\n",
    "if cur.fetchall()[0][0] == len(drs_data):\n",
    "    print(\"Data pre-loaded successfully!\")"
   ]
  },
  {
   "cell_type": "markdown",
   "id": "4130fb51-8e0d-4c10-8de6-ef3bd8d26c30",
   "metadata": {
    "tags": []
   },
   "source": [
    "## Creating a new dataframe from the Database"
   ]
  },
  {
   "cell_type": "code",
   "execution_count": 145,
   "id": "faa76ed0-5ce2-4b7b-9768-98dfb208fc14",
   "metadata": {
    "tags": []
   },
   "outputs": [
    {
     "name": "stderr",
     "output_type": "stream",
     "text": [
      "/var/folders/1k/58hcws017zn4nh_jpycwlvqw0000gn/T/ipykernel_11821/3452854778.py:14: UserWarning: pandas only supports SQLAlchemy connectable (engine/connection) or database string URI or sqlite3 DBAPI2 connection. Other DBAPI2 objects are not tested. Please consider using SQLAlchemy.\n",
      "  drs_cases = pd.read_sql_query(read_sql, conn)\n"
     ]
    }
   ],
   "source": [
    "read_sql = \"\"\"\n",
    "SELECT dc.medicaid_only_enrollee AS \"MA Only Enrollee\",\n",
    "       dc.total_medicaid_only_enrollee AS \"Total MA Only Enrollee\",\n",
    "       dc.cash_assistance_recipients AS \"CA Recipient\",\n",
    "       dc.cash_assistance_cases AS \"CA Cases\",\n",
    "       dc.total_snap_recipients AS \"Total SNAP Recipients\",\n",
    "       dc.total_snap_households AS \"Total SNAP Households\",\n",
    "       b.name AS \"Borough\",\n",
    "       cd.name AS \"Community District\"\n",
    "FROM drs_case dc\n",
    "LEFT JOIN community_district AS cd ON dc.community_district_id = cd.id\n",
    "LEFT JOIN borough AS b ON cd.borough_id = b.id;\"\"\"\n",
    "\n",
    "drs_cases = pd.read_sql_query(read_sql, conn)\n",
    "drs_cases['Borough'] = drc_cases['Borough'].astype('category')"
   ]
  },
  {
   "cell_type": "markdown",
   "id": "5cfe5c5a-b761-4767-a97f-e9e98a7f2ab6",
   "metadata": {
    "tags": []
   },
   "source": [
    "# Exploratory Data Analysis\n",
    "## Summary Statistics"
   ]
  },
  {
   "cell_type": "code",
   "execution_count": 150,
   "id": "d0f21276-b8f0-4326-801f-ff43d514bbe1",
   "metadata": {
    "tags": []
   },
   "outputs": [
    {
     "data": {
      "text/html": [
       "<div>\n",
       "<style scoped>\n",
       "    .dataframe tbody tr th:only-of-type {\n",
       "        vertical-align: middle;\n",
       "    }\n",
       "\n",
       "    .dataframe tbody tr th {\n",
       "        vertical-align: top;\n",
       "    }\n",
       "\n",
       "    .dataframe thead th {\n",
       "        text-align: right;\n",
       "    }\n",
       "</style>\n",
       "<table border=\"1\" class=\"dataframe\">\n",
       "  <thead>\n",
       "    <tr style=\"text-align: right;\">\n",
       "      <th></th>\n",
       "      <th>MA Only Enrollee</th>\n",
       "      <th>Total MA Only Enrollee</th>\n",
       "      <th>CA Recipient</th>\n",
       "      <th>CA Cases</th>\n",
       "      <th>Total SNAP Recipients</th>\n",
       "      <th>Total SNAP Households</th>\n",
       "      <th>Date Published</th>\n",
       "      <th>Date As Of</th>\n",
       "      <th>Borough</th>\n",
       "      <th>Community District</th>\n",
       "    </tr>\n",
       "  </thead>\n",
       "  <tbody>\n",
       "    <tr>\n",
       "      <th>count</th>\n",
       "      <td>354.000000</td>\n",
       "      <td>354.000000</td>\n",
       "      <td>354.000000</td>\n",
       "      <td>354.000000</td>\n",
       "      <td>354.000000</td>\n",
       "      <td>354.000000</td>\n",
       "      <td>354.000000</td>\n",
       "      <td>354</td>\n",
       "      <td>354</td>\n",
       "      <td>354</td>\n",
       "    </tr>\n",
       "    <tr>\n",
       "      <th>unique</th>\n",
       "      <td>NaN</td>\n",
       "      <td>NaN</td>\n",
       "      <td>NaN</td>\n",
       "      <td>NaN</td>\n",
       "      <td>NaN</td>\n",
       "      <td>NaN</td>\n",
       "      <td>NaN</td>\n",
       "      <td>NaN</td>\n",
       "      <td>5</td>\n",
       "      <td>59</td>\n",
       "    </tr>\n",
       "    <tr>\n",
       "      <th>top</th>\n",
       "      <td>NaN</td>\n",
       "      <td>NaN</td>\n",
       "      <td>NaN</td>\n",
       "      <td>NaN</td>\n",
       "      <td>NaN</td>\n",
       "      <td>NaN</td>\n",
       "      <td>NaN</td>\n",
       "      <td>NaN</td>\n",
       "      <td>BROOKLYN</td>\n",
       "      <td>B01</td>\n",
       "    </tr>\n",
       "    <tr>\n",
       "      <th>freq</th>\n",
       "      <td>NaN</td>\n",
       "      <td>NaN</td>\n",
       "      <td>NaN</td>\n",
       "      <td>NaN</td>\n",
       "      <td>NaN</td>\n",
       "      <td>NaN</td>\n",
       "      <td>NaN</td>\n",
       "      <td>NaN</td>\n",
       "      <td>108</td>\n",
       "      <td>6</td>\n",
       "    </tr>\n",
       "    <tr>\n",
       "      <th>mean</th>\n",
       "      <td>14684.333333</td>\n",
       "      <td>27183.819209</td>\n",
       "      <td>6361.305085</td>\n",
       "      <td>3460.081921</td>\n",
       "      <td>27602.709040</td>\n",
       "      <td>16097.485876</td>\n",
       "      <td>2020.500000</td>\n",
       "      <td>2020-05-01 00:00:00</td>\n",
       "      <td>NaN</td>\n",
       "      <td>NaN</td>\n",
       "    </tr>\n",
       "    <tr>\n",
       "      <th>min</th>\n",
       "      <td>1410.000000</td>\n",
       "      <td>2512.000000</td>\n",
       "      <td>315.000000</td>\n",
       "      <td>263.000000</td>\n",
       "      <td>1965.000000</td>\n",
       "      <td>1511.000000</td>\n",
       "      <td>2018.000000</td>\n",
       "      <td>2017-10-31 00:00:00</td>\n",
       "      <td>NaN</td>\n",
       "      <td>NaN</td>\n",
       "    </tr>\n",
       "    <tr>\n",
       "      <th>25%</th>\n",
       "      <td>9055.000000</td>\n",
       "      <td>17370.250000</td>\n",
       "      <td>2942.750000</td>\n",
       "      <td>1751.000000</td>\n",
       "      <td>16542.750000</td>\n",
       "      <td>10167.000000</td>\n",
       "      <td>2019.000000</td>\n",
       "      <td>2018-10-31 00:00:00</td>\n",
       "      <td>NaN</td>\n",
       "      <td>NaN</td>\n",
       "    </tr>\n",
       "    <tr>\n",
       "      <th>50%</th>\n",
       "      <td>13409.500000</td>\n",
       "      <td>26647.500000</td>\n",
       "      <td>4647.500000</td>\n",
       "      <td>2688.000000</td>\n",
       "      <td>24706.000000</td>\n",
       "      <td>14928.000000</td>\n",
       "      <td>2020.500000</td>\n",
       "      <td>2020-05-01 00:00:00</td>\n",
       "      <td>NaN</td>\n",
       "      <td>NaN</td>\n",
       "    </tr>\n",
       "    <tr>\n",
       "      <th>75%</th>\n",
       "      <td>18482.500000</td>\n",
       "      <td>36842.250000</td>\n",
       "      <td>9683.250000</td>\n",
       "      <td>5205.750000</td>\n",
       "      <td>39043.250000</td>\n",
       "      <td>21409.000000</td>\n",
       "      <td>2022.000000</td>\n",
       "      <td>2021-10-31 00:00:00</td>\n",
       "      <td>NaN</td>\n",
       "      <td>NaN</td>\n",
       "    </tr>\n",
       "    <tr>\n",
       "      <th>max</th>\n",
       "      <td>52525.000000</td>\n",
       "      <td>70448.000000</td>\n",
       "      <td>18953.000000</td>\n",
       "      <td>10071.000000</td>\n",
       "      <td>67294.000000</td>\n",
       "      <td>38992.000000</td>\n",
       "      <td>2023.000000</td>\n",
       "      <td>2022-10-31 00:00:00</td>\n",
       "      <td>NaN</td>\n",
       "      <td>NaN</td>\n",
       "    </tr>\n",
       "    <tr>\n",
       "      <th>std</th>\n",
       "      <td>8400.397596</td>\n",
       "      <td>13420.794009</td>\n",
       "      <td>4653.442781</td>\n",
       "      <td>2348.526239</td>\n",
       "      <td>15391.991415</td>\n",
       "      <td>8097.041116</td>\n",
       "      <td>1.710242</td>\n",
       "      <td>NaN</td>\n",
       "      <td>NaN</td>\n",
       "      <td>NaN</td>\n",
       "    </tr>\n",
       "  </tbody>\n",
       "</table>\n",
       "</div>"
      ],
      "text/plain": [
       "        MA Only Enrollee  Total MA Only Enrollee  CA Recipient      CA Cases  \\\n",
       "count         354.000000              354.000000    354.000000    354.000000   \n",
       "unique               NaN                     NaN           NaN           NaN   \n",
       "top                  NaN                     NaN           NaN           NaN   \n",
       "freq                 NaN                     NaN           NaN           NaN   \n",
       "mean        14684.333333            27183.819209   6361.305085   3460.081921   \n",
       "min          1410.000000             2512.000000    315.000000    263.000000   \n",
       "25%          9055.000000            17370.250000   2942.750000   1751.000000   \n",
       "50%         13409.500000            26647.500000   4647.500000   2688.000000   \n",
       "75%         18482.500000            36842.250000   9683.250000   5205.750000   \n",
       "max         52525.000000            70448.000000  18953.000000  10071.000000   \n",
       "std          8400.397596            13420.794009   4653.442781   2348.526239   \n",
       "\n",
       "        Total SNAP Recipients  Total SNAP Households  Date Published  \\\n",
       "count              354.000000             354.000000      354.000000   \n",
       "unique                    NaN                    NaN             NaN   \n",
       "top                       NaN                    NaN             NaN   \n",
       "freq                      NaN                    NaN             NaN   \n",
       "mean             27602.709040           16097.485876     2020.500000   \n",
       "min               1965.000000            1511.000000     2018.000000   \n",
       "25%              16542.750000           10167.000000     2019.000000   \n",
       "50%              24706.000000           14928.000000     2020.500000   \n",
       "75%              39043.250000           21409.000000     2022.000000   \n",
       "max              67294.000000           38992.000000     2023.000000   \n",
       "std              15391.991415            8097.041116        1.710242   \n",
       "\n",
       "                 Date As Of   Borough Community District  \n",
       "count                   354       354                354  \n",
       "unique                  NaN         5                 59  \n",
       "top                     NaN  BROOKLYN                B01  \n",
       "freq                    NaN       108                  6  \n",
       "mean    2020-05-01 00:00:00       NaN                NaN  \n",
       "min     2017-10-31 00:00:00       NaN                NaN  \n",
       "25%     2018-10-31 00:00:00       NaN                NaN  \n",
       "50%     2020-05-01 00:00:00       NaN                NaN  \n",
       "75%     2021-10-31 00:00:00       NaN                NaN  \n",
       "max     2022-10-31 00:00:00       NaN                NaN  \n",
       "std                     NaN       NaN                NaN  "
      ]
     },
     "execution_count": 150,
     "metadata": {},
     "output_type": "execute_result"
    }
   ],
   "source": [
    "drc_cases.describe(include='all')"
   ]
  },
  {
   "cell_type": "code",
   "execution_count": null,
   "id": "191fff1d-c7d8-47bf-bef7-38bfb1d2dd69",
   "metadata": {},
   "outputs": [],
   "source": [
    "cur.close()\n",
    "conn.close()"
   ]
  }
 ],
 "metadata": {
  "kernelspec": {
   "display_name": "Python 3 (ipykernel)",
   "language": "python",
   "name": "python3"
  },
  "language_info": {
   "codemirror_mode": {
    "name": "ipython",
    "version": 3
   },
   "file_extension": ".py",
   "mimetype": "text/x-python",
   "name": "python",
   "nbconvert_exporter": "python",
   "pygments_lexer": "ipython3",
   "version": "3.11.5"
  }
 },
 "nbformat": 4,
 "nbformat_minor": 5
}
