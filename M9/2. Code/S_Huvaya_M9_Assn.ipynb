{
 "cells": [
  {
   "cell_type": "code",
   "execution_count": 16,
   "id": "d74c2a48-b398-4b20-9756-ae0713bbdb6c",
   "metadata": {
    "tags": []
   },
   "outputs": [],
   "source": [
    "import re\n",
    "import json\n",
    "import time\n",
    "import requests\n",
    "\n",
    "import pandas as pd\n",
    "import seaborn as sns\n",
    "\n",
    "from bs4 import BeautifulSoup\n",
    "from matplotlib import pyplot as plt"
   ]
  },
  {
   "cell_type": "markdown",
   "id": "a276f273-c901-4ea1-84e2-bf4e09c3c38f",
   "metadata": {},
   "source": [
    "## Part I: Working with HTML and JSON"
   ]
  },
  {
   "cell_type": "markdown",
   "id": "59c1717b-da97-4b4c-ab91-486f7b7a11b5",
   "metadata": {},
   "source": [
    "#### Reading data from the JSON file"
   ]
  },
  {
   "cell_type": "code",
   "execution_count": 2,
   "id": "5a666f45-fd5d-4654-addd-039025f63b42",
   "metadata": {},
   "outputs": [
    {
     "data": {
      "text/html": [
       "<div>\n",
       "<style scoped>\n",
       "    .dataframe tbody tr th:only-of-type {\n",
       "        vertical-align: middle;\n",
       "    }\n",
       "\n",
       "    .dataframe tbody tr th {\n",
       "        vertical-align: top;\n",
       "    }\n",
       "\n",
       "    .dataframe thead th {\n",
       "        text-align: right;\n",
       "    }\n",
       "</style>\n",
       "<table border=\"1\" class=\"dataframe\">\n",
       "  <thead>\n",
       "    <tr style=\"text-align: right;\">\n",
       "      <th></th>\n",
       "      <th>title</th>\n",
       "      <th>artist</th>\n",
       "      <th>year</th>\n",
       "      <th>tracks</th>\n",
       "    </tr>\n",
       "  </thead>\n",
       "  <tbody>\n",
       "    <tr>\n",
       "      <th>0</th>\n",
       "      <td>And Then</td>\n",
       "      <td>Christopher Martin</td>\n",
       "      <td>2019</td>\n",
       "      <td>[Life, Come Back, Bun Fi Bun, Can't Dweet Agai...</td>\n",
       "    </tr>\n",
       "    <tr>\n",
       "      <th>1</th>\n",
       "      <td>Mustard Seed</td>\n",
       "      <td>Nutty O</td>\n",
       "      <td>2021</td>\n",
       "      <td>[Open Doors, Safe, Ndiwe, Peter Pan, Ready, Ku...</td>\n",
       "    </tr>\n",
       "    <tr>\n",
       "      <th>2</th>\n",
       "      <td>Melody</td>\n",
       "      <td>Demarco</td>\n",
       "      <td>2021</td>\n",
       "      <td>[My Way, Do It Again, For You, In My Heart, St...</td>\n",
       "    </tr>\n",
       "  </tbody>\n",
       "</table>\n",
       "</div>"
      ],
      "text/plain": [
       "          title              artist  year  \\\n",
       "0      And Then  Christopher Martin  2019   \n",
       "1  Mustard Seed             Nutty O  2021   \n",
       "2        Melody             Demarco  2021   \n",
       "\n",
       "                                              tracks  \n",
       "0  [Life, Come Back, Bun Fi Bun, Can't Dweet Agai...  \n",
       "1  [Open Doors, Safe, Ndiwe, Peter Pan, Ready, Ku...  \n",
       "2  [My Way, Do It Again, For You, In My Heart, St...  "
      ]
     },
     "execution_count": 2,
     "metadata": {},
     "output_type": "execute_result"
    }
   ],
   "source": [
    "json_data = pd.read_json(\"https://raw.githubusercontent.com/ktxdev/AIM-5001/main/M9/1.%20Data/albums.json\")\n",
    "json_data"
   ]
  },
  {
   "cell_type": "markdown",
   "id": "4063778b-0e10-42e8-bc33-4d91936bed7e",
   "metadata": {},
   "source": [
    "#### Reading data from the HTML file"
   ]
  },
  {
   "cell_type": "code",
   "execution_count": 3,
   "id": "eb3163ee-000d-4b80-a614-eab26dc0ca9b",
   "metadata": {
    "tags": []
   },
   "outputs": [
    {
     "data": {
      "text/html": [
       "<div>\n",
       "<style scoped>\n",
       "    .dataframe tbody tr th:only-of-type {\n",
       "        vertical-align: middle;\n",
       "    }\n",
       "\n",
       "    .dataframe tbody tr th {\n",
       "        vertical-align: top;\n",
       "    }\n",
       "\n",
       "    .dataframe thead th {\n",
       "        text-align: right;\n",
       "    }\n",
       "</style>\n",
       "<table border=\"1\" class=\"dataframe\">\n",
       "  <thead>\n",
       "    <tr style=\"text-align: right;\">\n",
       "      <th></th>\n",
       "      <th>Title</th>\n",
       "      <th>Artist</th>\n",
       "      <th>Year</th>\n",
       "      <th>Tracks</th>\n",
       "    </tr>\n",
       "  </thead>\n",
       "  <tbody>\n",
       "    <tr>\n",
       "      <th>0</th>\n",
       "      <td>And Then</td>\n",
       "      <td>Christopher Martin</td>\n",
       "      <td>2019</td>\n",
       "      <td>Life  Come Back  Bun Fi Bun  Can't Dweet Again...</td>\n",
       "    </tr>\n",
       "    <tr>\n",
       "      <th>1</th>\n",
       "      <td>Mustard Seed</td>\n",
       "      <td>Nutty O</td>\n",
       "      <td>2021</td>\n",
       "      <td>Open Doors  Safe  Ndiwe  Ready  Kungfu  Peter Pan</td>\n",
       "    </tr>\n",
       "    <tr>\n",
       "      <th>2</th>\n",
       "      <td>Melody</td>\n",
       "      <td>Demarco</td>\n",
       "      <td>2021</td>\n",
       "      <td>My Way  Do It Again  For You  In My Heart  Stu...</td>\n",
       "    </tr>\n",
       "  </tbody>\n",
       "</table>\n",
       "</div>"
      ],
      "text/plain": [
       "          Title              Artist  Year  \\\n",
       "0      And Then  Christopher Martin  2019   \n",
       "1  Mustard Seed             Nutty O  2021   \n",
       "2        Melody             Demarco  2021   \n",
       "\n",
       "                                              Tracks  \n",
       "0  Life  Come Back  Bun Fi Bun  Can't Dweet Again...  \n",
       "1  Open Doors  Safe  Ndiwe  Ready  Kungfu  Peter Pan  \n",
       "2  My Way  Do It Again  For You  In My Heart  Stu...  "
      ]
     },
     "execution_count": 3,
     "metadata": {},
     "output_type": "execute_result"
    }
   ],
   "source": [
    "# Get first table in list returned\n",
    "html_data = pd.read_html(\"https://raw.githubusercontent.com/ktxdev/AIM-5001/main/M9/1.%20Data/albums.html\")[0]\n",
    "html_data"
   ]
  },
  {
   "cell_type": "code",
   "execution_count": 4,
   "id": "8d1dc538-2172-4908-b75a-e587dbe79d22",
   "metadata": {
    "tags": []
   },
   "outputs": [
    {
     "name": "stdout",
     "output_type": "stream",
     "text": [
      "Tracks Type (json_data):  <class 'list'>\n",
      "Tracks Type (html_data):  <class 'str'>\n"
     ]
    }
   ],
   "source": [
    "print(\"Tracks Type (json_data): \", type(json_data['tracks'][0]))\n",
    "print(\"Tracks Type (html_data): \", type(html_data['Tracks'][0]))"
   ]
  },
  {
   "cell_type": "markdown",
   "id": "941438c3-6ab5-41b4-9d77-9cf0db357e89",
   "metadata": {},
   "source": [
    "The two dataframes above have one column \"tracks\" that has differences, indicating that they are not truly the same. The data in the \"tracks\" column of `json_data` has a `Series` object that encompasses a `list` object, while the data in the \"tracks\" column of `html_data` also contains a `Series` object but the object encompasses a `str` object."
   ]
  },
  {
   "cell_type": "markdown",
   "id": "94f08adc-1be5-4fee-80eb-00d618dfe0aa",
   "metadata": {},
   "source": [
    "## Part II: Scraping the Katz School’s “Staff” Web Page"
   ]
  },
  {
   "cell_type": "code",
   "execution_count": 5,
   "id": "3ac26caa-99c1-4aca-b941-5f6ba42c3778",
   "metadata": {
    "tags": []
   },
   "outputs": [
    {
     "data": {
      "text/html": [
       "<div>\n",
       "<style scoped>\n",
       "    .dataframe tbody tr th:only-of-type {\n",
       "        vertical-align: middle;\n",
       "    }\n",
       "\n",
       "    .dataframe tbody tr th {\n",
       "        vertical-align: top;\n",
       "    }\n",
       "\n",
       "    .dataframe thead th {\n",
       "        text-align: right;\n",
       "    }\n",
       "</style>\n",
       "<table border=\"1\" class=\"dataframe\">\n",
       "  <thead>\n",
       "    <tr style=\"text-align: right;\">\n",
       "      <th></th>\n",
       "      <th>name</th>\n",
       "      <th>title</th>\n",
       "      <th>office</th>\n",
       "      <th>email</th>\n",
       "      <th>phone</th>\n",
       "    </tr>\n",
       "  </thead>\n",
       "  <tbody>\n",
       "    <tr>\n",
       "      <th>0</th>\n",
       "      <td>Paul Russo</td>\n",
       "      <td>Vice Provost and Dean</td>\n",
       "      <td>Office of the Dean</td>\n",
       "      <td>N/A</td>\n",
       "      <td>N/A</td>\n",
       "    </tr>\n",
       "    <tr>\n",
       "      <th>1</th>\n",
       "      <td>Aaron Ross</td>\n",
       "      <td>Assistant Dean for Academic Programs and Deput...</td>\n",
       "      <td>Office of the Dean</td>\n",
       "      <td>aaron.ross2@yu.edu</td>\n",
       "      <td>646-592-4148</td>\n",
       "    </tr>\n",
       "    <tr>\n",
       "      <th>2</th>\n",
       "      <td>Jackie Hamilton</td>\n",
       "      <td>Executive Director of Enrollment Management an...</td>\n",
       "      <td>Office of the Dean</td>\n",
       "      <td>jackie.hamilton@yu.edu</td>\n",
       "      <td>646-787-6194</td>\n",
       "    </tr>\n",
       "    <tr>\n",
       "      <th>3</th>\n",
       "      <td>Pamela Rodman</td>\n",
       "      <td>Director of Finance and Administration</td>\n",
       "      <td>Office of the Dean</td>\n",
       "      <td>pamela.rodman@yu.edu</td>\n",
       "      <td>646.592.4777</td>\n",
       "    </tr>\n",
       "    <tr>\n",
       "      <th>4</th>\n",
       "      <td>Tabitha Collazo</td>\n",
       "      <td>Business and Operations Coordinator</td>\n",
       "      <td>Office of the Dean</td>\n",
       "      <td>tabitha.collazo@yu.edu</td>\n",
       "      <td>646-592-4735</td>\n",
       "    </tr>\n",
       "    <tr>\n",
       "      <th>5</th>\n",
       "      <td>Ann Leary</td>\n",
       "      <td>Office Manager/Executive Assistant to the Dean...</td>\n",
       "      <td>Office of the Dean</td>\n",
       "      <td>ann.leary@yu.edu</td>\n",
       "      <td>646-592-4724</td>\n",
       "    </tr>\n",
       "    <tr>\n",
       "      <th>6</th>\n",
       "      <td>Jared Hakimi</td>\n",
       "      <td>Director</td>\n",
       "      <td>Graduate Admissions</td>\n",
       "      <td>jared.hakimi@yu.edu</td>\n",
       "      <td>646-592-4722</td>\n",
       "    </tr>\n",
       "    <tr>\n",
       "      <th>7</th>\n",
       "      <td>Xavier Velasquez</td>\n",
       "      <td>Associate Director of Graduate Admissions Oper...</td>\n",
       "      <td>Graduate Admissions</td>\n",
       "      <td>xavier.velasquez@yu.edu</td>\n",
       "      <td>646-592-4737</td>\n",
       "    </tr>\n",
       "    <tr>\n",
       "      <th>8</th>\n",
       "      <td>Shayna Matzner</td>\n",
       "      <td>Assistant Director</td>\n",
       "      <td>Graduate Admissions</td>\n",
       "      <td>shayna.matzner@yu.edu</td>\n",
       "      <td>646-592-4726</td>\n",
       "    </tr>\n",
       "    <tr>\n",
       "      <th>9</th>\n",
       "      <td>Linyu Zheng</td>\n",
       "      <td>Assistant Director</td>\n",
       "      <td>Graduate Admissions</td>\n",
       "      <td>linyu.zheng@yu.edu</td>\n",
       "      <td>1-332-271-5865</td>\n",
       "    </tr>\n",
       "    <tr>\n",
       "      <th>10</th>\n",
       "      <td>Hyokyeong \"Kyeong\" Yu</td>\n",
       "      <td>International Student Advisor</td>\n",
       "      <td>Graduate Admissions</td>\n",
       "      <td>hyokyeong.yu@yu.edu</td>\n",
       "      <td>646-592-4736</td>\n",
       "    </tr>\n",
       "    <tr>\n",
       "      <th>11</th>\n",
       "      <td>Aman Sharma</td>\n",
       "      <td>Recruitment Manager - South Asia</td>\n",
       "      <td>Graduate Admissions</td>\n",
       "      <td>N/A</td>\n",
       "      <td>91 870 053 5893</td>\n",
       "    </tr>\n",
       "    <tr>\n",
       "      <th>12</th>\n",
       "      <td>Rafael Reyes</td>\n",
       "      <td>Director of Graduate Student Life and Communit...</td>\n",
       "      <td>Graduate Student Life</td>\n",
       "      <td>rafael.reyes@yu.edu</td>\n",
       "      <td>646-592-4729</td>\n",
       "    </tr>\n",
       "    <tr>\n",
       "      <th>13</th>\n",
       "      <td>John Vivolo</td>\n",
       "      <td>Executive Director of Academic Operations and ...</td>\n",
       "      <td>Academic Operations and Teaching and Learning</td>\n",
       "      <td>john.vivolo@yu.edu</td>\n",
       "      <td>646-592-4743</td>\n",
       "    </tr>\n",
       "    <tr>\n",
       "      <th>14</th>\n",
       "      <td>Suzette Sadio</td>\n",
       "      <td>Academic Program Coordinator</td>\n",
       "      <td>Academic Operations and Teaching and Learning</td>\n",
       "      <td>suzette.sadio@yu.edu</td>\n",
       "      <td>646-592-4762</td>\n",
       "    </tr>\n",
       "    <tr>\n",
       "      <th>15</th>\n",
       "      <td>Gladys Davis</td>\n",
       "      <td>Program Manager</td>\n",
       "      <td>Academic Operations and Teaching and Learning</td>\n",
       "      <td>gladys.davis@yu.edu</td>\n",
       "      <td>646-592-4034</td>\n",
       "    </tr>\n",
       "    <tr>\n",
       "      <th>16</th>\n",
       "      <td>Shianne McLean</td>\n",
       "      <td>Program Assistant</td>\n",
       "      <td>Academic Operations and Teaching and Learning</td>\n",
       "      <td>shianne.mclean@yu.edu</td>\n",
       "      <td>N/A</td>\n",
       "    </tr>\n",
       "    <tr>\n",
       "      <th>17</th>\n",
       "      <td>Ariana Allias</td>\n",
       "      <td>Program Manager</td>\n",
       "      <td>Academic Operations and Teaching and Learning</td>\n",
       "      <td>ariana.allias@yu.edu</td>\n",
       "      <td>N/A</td>\n",
       "    </tr>\n",
       "    <tr>\n",
       "      <th>18</th>\n",
       "      <td>Lloyd Carew-Reid</td>\n",
       "      <td>Instructional Designer</td>\n",
       "      <td>Academic Operations and Teaching and Learning</td>\n",
       "      <td>lloyd.carew-reid@yu.edu</td>\n",
       "      <td>646-592-4768</td>\n",
       "    </tr>\n",
       "    <tr>\n",
       "      <th>19</th>\n",
       "      <td>Denton Field</td>\n",
       "      <td>Media Production Manager</td>\n",
       "      <td>Academic Operations and Teaching and Learning</td>\n",
       "      <td>denton.field@yu.edu</td>\n",
       "      <td>N/A</td>\n",
       "    </tr>\n",
       "  </tbody>\n",
       "</table>\n",
       "</div>"
      ],
      "text/plain": [
       "                     name                                              title  \\\n",
       "0              Paul Russo                              Vice Provost and Dean   \n",
       "1              Aaron Ross  Assistant Dean for Academic Programs and Deput...   \n",
       "2         Jackie Hamilton  Executive Director of Enrollment Management an...   \n",
       "3           Pamela Rodman             Director of Finance and Administration   \n",
       "4         Tabitha Collazo                Business and Operations Coordinator   \n",
       "5               Ann Leary  Office Manager/Executive Assistant to the Dean...   \n",
       "6            Jared Hakimi                                           Director   \n",
       "7        Xavier Velasquez  Associate Director of Graduate Admissions Oper...   \n",
       "8          Shayna Matzner                                 Assistant Director   \n",
       "9             Linyu Zheng                                 Assistant Director   \n",
       "10  Hyokyeong \"Kyeong\" Yu                      International Student Advisor   \n",
       "11            Aman Sharma                   Recruitment Manager - South Asia   \n",
       "12           Rafael Reyes  Director of Graduate Student Life and Communit...   \n",
       "13            John Vivolo  Executive Director of Academic Operations and ...   \n",
       "14          Suzette Sadio                       Academic Program Coordinator   \n",
       "15           Gladys Davis                                    Program Manager   \n",
       "16         Shianne McLean                                  Program Assistant   \n",
       "17          Ariana Allias                                    Program Manager   \n",
       "18       Lloyd Carew-Reid                             Instructional Designer   \n",
       "19           Denton Field                           Media Production Manager   \n",
       "\n",
       "                                           office                    email  \\\n",
       "0                              Office of the Dean                      N/A   \n",
       "1                              Office of the Dean       aaron.ross2@yu.edu   \n",
       "2                              Office of the Dean   jackie.hamilton@yu.edu   \n",
       "3                              Office of the Dean     pamela.rodman@yu.edu   \n",
       "4                              Office of the Dean   tabitha.collazo@yu.edu   \n",
       "5                              Office of the Dean         ann.leary@yu.edu   \n",
       "6                             Graduate Admissions      jared.hakimi@yu.edu   \n",
       "7                             Graduate Admissions  xavier.velasquez@yu.edu   \n",
       "8                             Graduate Admissions    shayna.matzner@yu.edu   \n",
       "9                             Graduate Admissions       linyu.zheng@yu.edu   \n",
       "10                            Graduate Admissions      hyokyeong.yu@yu.edu   \n",
       "11                            Graduate Admissions                      N/A   \n",
       "12                          Graduate Student Life      rafael.reyes@yu.edu   \n",
       "13  Academic Operations and Teaching and Learning       john.vivolo@yu.edu   \n",
       "14  Academic Operations and Teaching and Learning     suzette.sadio@yu.edu   \n",
       "15  Academic Operations and Teaching and Learning      gladys.davis@yu.edu   \n",
       "16  Academic Operations and Teaching and Learning    shianne.mclean@yu.edu   \n",
       "17  Academic Operations and Teaching and Learning     ariana.allias@yu.edu   \n",
       "18  Academic Operations and Teaching and Learning  lloyd.carew-reid@yu.edu   \n",
       "19  Academic Operations and Teaching and Learning      denton.field@yu.edu   \n",
       "\n",
       "              phone  \n",
       "0               N/A  \n",
       "1     646-592-4148   \n",
       "2      646-787-6194  \n",
       "3      646.592.4777  \n",
       "4      646-592-4735  \n",
       "5      646-592-4724  \n",
       "6     646-592-4722   \n",
       "7     646-592-4737   \n",
       "8     646-592-4726   \n",
       "9   1-332-271-5865   \n",
       "10     646-592-4736  \n",
       "11  91 870 053 5893  \n",
       "12     646-592-4729  \n",
       "13     646-592-4743  \n",
       "14     646-592-4762  \n",
       "15     646-592-4034  \n",
       "16              N/A  \n",
       "17              N/A  \n",
       "18     646-592-4768  \n",
       "19              N/A  "
      ]
     },
     "execution_count": 5,
     "metadata": {},
     "output_type": "execute_result"
    }
   ],
   "source": [
    "# Get the staff page\n",
    "page = requests.get(\"https://www.yu.edu/katz/staff\")\n",
    "# Parse staff page content\n",
    "soup = BeautifulSoup(page.content, 'html.parser')\n",
    "\n",
    "# Find the div that contains all the staff information\n",
    "staff = soup.find('div', class_=\"text-only\")\n",
    "\n",
    "# Creating a dataframe for staff information\n",
    "staff_info = pd.DataFrame(columns = [\"name\", \"title\", \"office\", \"email\", \"phone\"])\n",
    "\n",
    "# Current cursor position\n",
    "current = staff.find('div').find('h3')\n",
    "current_office = None\n",
    "\n",
    "# Loop over all staff information\n",
    "while current:\n",
    "    if current.name == 'h3':\n",
    "        current_office = current.contents[0].strip() # Get office name\n",
    "\n",
    "    elif current.name == 'p' and current.contents[0].strip() != \"\": \n",
    "        # Get contents of the p tag\n",
    "        contents = current.contents\n",
    "        \n",
    "        # Create dict for the staff member\n",
    "        staff_member = { \"name\": contents[0].split(\",\")[0], \"office\": current_office, \"email\": \"N/A\", \"phone\": \"N/A\" }\n",
    "        \n",
    "        # Set current member's title\n",
    "        if current.find('span'):\n",
    "            staff_member[\"title\"] = current.find('span').contents[0].strip()\n",
    "        else:\n",
    "            staff_member[\"title\"] = contents[0].split(\",\")[1].strip()\n",
    "        \n",
    "        # Set current member's email if it exists\n",
    "        mail = current.find('a')\n",
    "        if mail.get(\"href\").startswith(\"mailto\"):\n",
    "            staff_member[\"email\"] = mail.contents[0]\n",
    "            \n",
    "        # Extract current member's phone number using regex\n",
    "        phone = re.findall(r\"[0-9-. ]{10,}\", current.text)\n",
    "\n",
    "        # Set current member's phone number if it exists\n",
    "        if phone:\n",
    "            staff_member[\"phone\"] = phone[0]\n",
    "        \n",
    "        # Add member infomation to the dataframe\n",
    "        staff_info = pd.concat([staff_info, pd.DataFrame([staff_member])], ignore_index = True)\n",
    "    \n",
    "    # Move cursor to next html tag\n",
    "    current = current.find_next_sibling()\n",
    "\n",
    "\n",
    "staff_info"
   ]
  },
  {
   "cell_type": "markdown",
   "id": "3545742d",
   "metadata": {},
   "source": [
    "The data in the `staff_info` dataframe appropriately represent the information on Yeshiva University's staff page."
   ]
  },
  {
   "cell_type": "markdown",
   "id": "f18b5df5-f839-48f1-9c60-41a569cc4383",
   "metadata": {},
   "source": [
    "## Part III: Working with Web API’s"
   ]
  },
  {
   "cell_type": "code",
   "execution_count": 24,
   "id": "ae7a2f14-a209-405a-8b36-76108154b2ba",
   "metadata": {
    "tags": []
   },
   "outputs": [
    {
     "data": {
      "text/html": [
       "<div>\n",
       "<style scoped>\n",
       "    .dataframe tbody tr th:only-of-type {\n",
       "        vertical-align: middle;\n",
       "    }\n",
       "\n",
       "    .dataframe tbody tr th {\n",
       "        vertical-align: top;\n",
       "    }\n",
       "\n",
       "    .dataframe thead th {\n",
       "        text-align: right;\n",
       "    }\n",
       "</style>\n",
       "<table border=\"1\" class=\"dataframe\">\n",
       "  <thead>\n",
       "    <tr style=\"text-align: right;\">\n",
       "      <th></th>\n",
       "      <th>title</th>\n",
       "      <th>category</th>\n",
       "      <th>language</th>\n",
       "      <th>creator</th>\n",
       "      <th>keywords</th>\n",
       "      <th>pubDate</th>\n",
       "    </tr>\n",
       "  </thead>\n",
       "  <tbody>\n",
       "    <tr>\n",
       "      <th>0</th>\n",
       "      <td>El viacrucis de la Sagrada Familia llegará a s...</td>\n",
       "      <td>[top]</td>\n",
       "      <td>spanish</td>\n",
       "      <td>[Editor Web]</td>\n",
       "      <td>[pereira, colegio la sagrada familia, p1, sema...</td>\n",
       "      <td>2024-03-24 12:56:58</td>\n",
       "    </tr>\n",
       "    <tr>\n",
       "      <th>1</th>\n",
       "      <td>Tesla Model 3 Performance Enters Spotlight wit...</td>\n",
       "      <td>[top]</td>\n",
       "      <td>english</td>\n",
       "      <td>[Ethan Moreno]</td>\n",
       "      <td>[electric vehicle]</td>\n",
       "      <td>2024-03-24 12:54:17</td>\n",
       "    </tr>\n",
       "    <tr>\n",
       "      <th>2</th>\n",
       "      <td>El pálido rostro del Hospital del Niño de Breñ...</td>\n",
       "      <td>[top]</td>\n",
       "      <td>spanish</td>\n",
       "      <td>[Redacción Diario Correo]</td>\n",
       "      <td>None</td>\n",
       "      <td>2024-03-24 12:54:03</td>\n",
       "    </tr>\n",
       "    <tr>\n",
       "      <th>3</th>\n",
       "      <td>Fluence’s ‘Cloudless Platform’ Goes Live as Al...</td>\n",
       "      <td>[top]</td>\n",
       "      <td>english</td>\n",
       "      <td>[Paul Godwin]</td>\n",
       "      <td>[community insights]</td>\n",
       "      <td>2024-03-24 12:52:13</td>\n",
       "    </tr>\n",
       "    <tr>\n",
       "      <th>4</th>\n",
       "      <td>S&amp;P 500 Giants Lead Charge</td>\n",
       "      <td>[top]</td>\n",
       "      <td>english</td>\n",
       "      <td>[Paul Godwin]</td>\n",
       "      <td>[latest insights | news]</td>\n",
       "      <td>2024-03-24 12:48:05</td>\n",
       "    </tr>\n",
       "    <tr>\n",
       "      <th>5</th>\n",
       "      <td>Renault Mart 2024 kampanyası için son 8 gün! İ...</td>\n",
       "      <td>[business]</td>\n",
       "      <td>turkish</td>\n",
       "      <td>None</td>\n",
       "      <td>None</td>\n",
       "      <td>2024-03-24 12:48:02</td>\n",
       "    </tr>\n",
       "    <tr>\n",
       "      <th>6</th>\n",
       "      <td>Misinformation spread via deepfakes biggest th...</td>\n",
       "      <td>[top]</td>\n",
       "      <td>english</td>\n",
       "      <td>[The Hans India]</td>\n",
       "      <td>[technology,tech news]</td>\n",
       "      <td>2024-03-24 12:45:44</td>\n",
       "    </tr>\n",
       "    <tr>\n",
       "      <th>7</th>\n",
       "      <td>Gurman: iOS 18 to feature new home screen that...</td>\n",
       "      <td>[top]</td>\n",
       "      <td>english</td>\n",
       "      <td>[Benjamin Mayo]</td>\n",
       "      <td>[general]</td>\n",
       "      <td>2024-03-24 12:45:03</td>\n",
       "    </tr>\n",
       "    <tr>\n",
       "      <th>8</th>\n",
       "      <td>Pershing Square Holdings 2023 Letter To Shareh...</td>\n",
       "      <td>[business]</td>\n",
       "      <td>english</td>\n",
       "      <td>None</td>\n",
       "      <td>[goog, googl, low, umgnf, cmg, qsr, hlt, hhh, ...</td>\n",
       "      <td>2024-03-24 12:45:00</td>\n",
       "    </tr>\n",
       "    <tr>\n",
       "      <th>9</th>\n",
       "      <td>How Nvidia’s Blackwell is a revolutionary tech...</td>\n",
       "      <td>[politics]</td>\n",
       "      <td>english</td>\n",
       "      <td>[Firstpost]</td>\n",
       "      <td>[opinion]</td>\n",
       "      <td>2024-03-24 12:39:35</td>\n",
       "    </tr>\n",
       "  </tbody>\n",
       "</table>\n",
       "</div>"
      ],
      "text/plain": [
       "                                               title    category language  \\\n",
       "0  El viacrucis de la Sagrada Familia llegará a s...       [top]  spanish   \n",
       "1  Tesla Model 3 Performance Enters Spotlight wit...       [top]  english   \n",
       "2  El pálido rostro del Hospital del Niño de Breñ...       [top]  spanish   \n",
       "3  Fluence’s ‘Cloudless Platform’ Goes Live as Al...       [top]  english   \n",
       "4                         S&P 500 Giants Lead Charge       [top]  english   \n",
       "5  Renault Mart 2024 kampanyası için son 8 gün! İ...  [business]  turkish   \n",
       "6  Misinformation spread via deepfakes biggest th...       [top]  english   \n",
       "7  Gurman: iOS 18 to feature new home screen that...       [top]  english   \n",
       "8  Pershing Square Holdings 2023 Letter To Shareh...  [business]  english   \n",
       "9  How Nvidia’s Blackwell is a revolutionary tech...  [politics]  english   \n",
       "\n",
       "                     creator  \\\n",
       "0               [Editor Web]   \n",
       "1             [Ethan Moreno]   \n",
       "2  [Redacción Diario Correo]   \n",
       "3              [Paul Godwin]   \n",
       "4              [Paul Godwin]   \n",
       "5                       None   \n",
       "6           [The Hans India]   \n",
       "7            [Benjamin Mayo]   \n",
       "8                       None   \n",
       "9                [Firstpost]   \n",
       "\n",
       "                                            keywords              pubDate  \n",
       "0  [pereira, colegio la sagrada familia, p1, sema...  2024-03-24 12:56:58  \n",
       "1                                 [electric vehicle]  2024-03-24 12:54:17  \n",
       "2                                               None  2024-03-24 12:54:03  \n",
       "3                               [community insights]  2024-03-24 12:52:13  \n",
       "4                           [latest insights | news]  2024-03-24 12:48:05  \n",
       "5                                               None  2024-03-24 12:48:02  \n",
       "6                             [technology,tech news]  2024-03-24 12:45:44  \n",
       "7                                          [general]  2024-03-24 12:45:03  \n",
       "8  [goog, googl, low, umgnf, cmg, qsr, hlt, hhh, ...  2024-03-24 12:45:00  \n",
       "9                                          [opinion]  2024-03-24 12:39:35  "
      ]
     },
     "execution_count": 24,
     "metadata": {},
     "output_type": "execute_result"
    }
   ],
   "source": [
    "base_url = \"https://newsdata.io/api/1/news?apikey=pub_4046009183297c1193f8a39cd7e388da89a99&q=tech\"\n",
    "res = requests.get(base_url)\n",
    "\n",
    "# Load API response as JSON\n",
    "json_data = json.loads(res.text)\n",
    "\n",
    "# Create dataframe for the data\n",
    "data_columns = [\"title\", \"category\", \"language\", \"creator\", \"keywords\", \"pubDate\"]\n",
    "data = pd.DataFrame(json_data[\"results\"], columns = data_columns)\n",
    "\n",
    "# Loops five times to get more news from API\n",
    "for i in range(5):\n",
    "    time.sleep(1) # Delay execution to avoid rate limit exception\n",
    "    \n",
    "    res = requests.get(f\"{base_url}&page={json_data['nextPage']}\")\n",
    "    json_data = json.loads(res.text)\n",
    "    \n",
    "    new_data = pd.DataFrame(json_data[\"results\"], columns = data_columns)\n",
    "    data = pd.concat([data, new_data], ignore_index = True)\n",
    "\n",
    "\n",
    "data.head(10)"
   ]
  },
  {
   "cell_type": "markdown",
   "id": "28369fc8",
   "metadata": {},
   "source": [
    "### Creating subset of original data"
   ]
  },
  {
   "cell_type": "code",
   "execution_count": 25,
   "id": "20f5ddd8",
   "metadata": {},
   "outputs": [
    {
     "data": {
      "text/html": [
       "<div>\n",
       "<style scoped>\n",
       "    .dataframe tbody tr th:only-of-type {\n",
       "        vertical-align: middle;\n",
       "    }\n",
       "\n",
       "    .dataframe tbody tr th {\n",
       "        vertical-align: top;\n",
       "    }\n",
       "\n",
       "    .dataframe thead th {\n",
       "        text-align: right;\n",
       "    }\n",
       "</style>\n",
       "<table border=\"1\" class=\"dataframe\">\n",
       "  <thead>\n",
       "    <tr style=\"text-align: right;\">\n",
       "      <th></th>\n",
       "      <th>category</th>\n",
       "      <th>language</th>\n",
       "    </tr>\n",
       "  </thead>\n",
       "  <tbody>\n",
       "    <tr>\n",
       "      <th>0</th>\n",
       "      <td>[top]</td>\n",
       "      <td>spanish</td>\n",
       "    </tr>\n",
       "    <tr>\n",
       "      <th>1</th>\n",
       "      <td>[top]</td>\n",
       "      <td>english</td>\n",
       "    </tr>\n",
       "    <tr>\n",
       "      <th>2</th>\n",
       "      <td>[top]</td>\n",
       "      <td>spanish</td>\n",
       "    </tr>\n",
       "    <tr>\n",
       "      <th>3</th>\n",
       "      <td>[top]</td>\n",
       "      <td>english</td>\n",
       "    </tr>\n",
       "    <tr>\n",
       "      <th>4</th>\n",
       "      <td>[top]</td>\n",
       "      <td>english</td>\n",
       "    </tr>\n",
       "  </tbody>\n",
       "</table>\n",
       "</div>"
      ],
      "text/plain": [
       "  category language\n",
       "0    [top]  spanish\n",
       "1    [top]  english\n",
       "2    [top]  spanish\n",
       "3    [top]  english\n",
       "4    [top]  english"
      ]
     },
     "execution_count": 25,
     "metadata": {},
     "output_type": "execute_result"
    }
   ],
   "source": [
    "# Slicing columns to extract attributes for analysis\n",
    "data2  = data[[\"category\", \"language\"]]\n",
    "data2.head()"
   ]
  },
  {
   "cell_type": "markdown",
   "id": "7efa750b",
   "metadata": {},
   "source": [
    "### Converting category column to string objects"
   ]
  },
  {
   "cell_type": "code",
   "execution_count": 29,
   "id": "1a586d03",
   "metadata": {},
   "outputs": [],
   "source": [
    "# Creating a copy of data2\n",
    "data3 = data2.copy()\n",
    "data3[\"category\"] = data3[\"category\"].apply(lambda cat: '+'.join(cat))"
   ]
  },
  {
   "cell_type": "markdown",
   "id": "b3e3e3eb",
   "metadata": {},
   "source": [
    "### Checking for nulls"
   ]
  },
  {
   "cell_type": "code",
   "execution_count": 27,
   "id": "d7ed1201",
   "metadata": {},
   "outputs": [
    {
     "data": {
      "text/plain": [
       "Index([], dtype='object')"
      ]
     },
     "execution_count": 27,
     "metadata": {},
     "output_type": "execute_result"
    }
   ],
   "source": [
    "data3.columns[data3.isnull().any()]"
   ]
  },
  {
   "cell_type": "markdown",
   "id": "18f5bfca",
   "metadata": {},
   "source": [
    "**Discussion of results:** According to the analysis above, the dataset does not contains null or missing values."
   ]
  },
  {
   "cell_type": "markdown",
   "id": "68b48a51",
   "metadata": {},
   "source": [
    "### Descriptive statistics\n",
    "#### Category"
   ]
  },
  {
   "cell_type": "code",
   "execution_count": 31,
   "id": "86c2480e",
   "metadata": {},
   "outputs": [
    {
     "name": "stdout",
     "output_type": "stream",
     "text": [
      "category\n",
      "top              29\n",
      "technology       16\n",
      "business          7\n",
      "politics          3\n",
      "other             3\n",
      "entertainment     1\n",
      "health            1\n",
      "Name: count, dtype: int64\n",
      "category\n",
      "top              0.483333\n",
      "technology       0.266667\n",
      "business         0.116667\n",
      "politics         0.050000\n",
      "other            0.050000\n",
      "entertainment    0.016667\n",
      "health           0.016667\n",
      "Name: count, dtype: float64\n"
     ]
    }
   ],
   "source": [
    "print(data3['category'].value_counts())\n",
    "print(data3['category'].value_counts() / len(data3))"
   ]
  },
  {
   "cell_type": "markdown",
   "id": "3d2a73af",
   "metadata": {},
   "source": [
    "**Discussion of results:** According to the data, approximately 48.33% are top news, 26.67% are technology news, 11.67% are business news, and the remaining categories (politics, entertainment, health, and others) account for 13.33%. "
   ]
  },
  {
   "cell_type": "code",
   "execution_count": 33,
   "id": "95abcb88",
   "metadata": {},
   "outputs": [
    {
     "data": {
      "image/png": "[encoded data removed]",
      "text/plain": [
       "<Figure size 640x480 with 1 Axes>"
      ]
     },
     "metadata": {},
     "output_type": "display_data"
    }
   ],
   "source": [
    "# Seaborn graph of Category\n",
    "sns.countplot(x = 'category', data = data3)\n",
    "\n",
    "# give the plot a title\n",
    "plt.title('Category Bar Chart')\n",
    "plt.xlabel('Category')\n",
    "plt.ylabel('Count')\n",
    "plt.show()"
   ]
  },
  {
   "cell_type": "markdown",
   "id": "bb3dfa99",
   "metadata": {},
   "source": [
    "**Discussion of Result:** According to the counts for each group, this bar chart simply shows that top news appears the most frequently in the dataset, followed by technology and then business."
   ]
  },
  {
   "cell_type": "markdown",
   "id": "a617215a",
   "metadata": {},
   "source": [
    "#### Language"
   ]
  },
  {
   "cell_type": "code",
   "execution_count": 13,
   "id": "0a8f7ae4",
   "metadata": {},
   "outputs": [
    {
     "name": "stdout",
     "output_type": "stream",
     "text": [
      "language\n",
      "english       47\n",
      "spanish        4\n",
      "telugu         2\n",
      "indonesian     2\n",
      "hungarian      1\n",
      "italian        1\n",
      "german         1\n",
      "french         1\n",
      "thai           1\n",
      "Name: count, dtype: int64\n",
      "language\n",
      "english       0.783333\n",
      "spanish       0.066667\n",
      "telugu        0.033333\n",
      "indonesian    0.033333\n",
      "hungarian     0.016667\n",
      "italian       0.016667\n",
      "german        0.016667\n",
      "french        0.016667\n",
      "thai          0.016667\n",
      "Name: count, dtype: float64\n"
     ]
    }
   ],
   "source": [
    "print(data2['language'].value_counts())\n",
    "print(data2['language'].value_counts() / len(data2))"
   ]
  },
  {
   "cell_type": "markdown",
   "id": "24ae9d4e",
   "metadata": {},
   "source": [
    "**Discussion of results:** According to the data, the majority of news stories are written in English, accounting for 78.33%, with the remaining amount distributed among the other languages."
   ]
  },
  {
   "cell_type": "code",
   "execution_count": 35,
   "id": "aa385d87",
   "metadata": {},
   "outputs": [
    {
     "data": {
      "image/png": "[encoded data removed]",
      "text/plain": [
       "<Figure size 640x480 with 1 Axes>"
      ]
     },
     "metadata": {},
     "output_type": "display_data"
    }
   ],
   "source": [
    "# Seaborn graph of Category\n",
    "sns.countplot(x = 'language', data = data3)\n",
    "\n",
    "# give the plot a title\n",
    "plt.title('Language Bar Chart')\n",
    "plt.xlabel('Language')\n",
    "plt.ylabel('Count')\n",
    "plt.show()"
   ]
  },
  {
   "cell_type": "markdown",
   "id": "d24933cd",
   "metadata": {},
   "source": [
    "**Discussion of Results:** Based on the numbers for each group, this bar chart simply demonstrates that English news category occurs the most frequently."
   ]
  }
 ],
 "metadata": {
  "kernelspec": {
   "display_name": "Python 3 (ipykernel)",
   "language": "python",
   "name": "python3"
  },
  "language_info": {
   "codemirror_mode": {
    "name": "ipython",
    "version": 3
   },
   "file_extension": ".py",
   "mimetype": "text/x-python",
   "name": "python",
   "nbconvert_exporter": "python",
   "pygments_lexer": "ipython3",
   "version": "3.11.5"
  }
 },
 "nbformat": 4,
 "nbformat_minor": 5
}
