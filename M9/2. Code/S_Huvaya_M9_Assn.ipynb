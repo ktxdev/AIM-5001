{
 "cells": [
  {
   "cell_type": "code",
   "execution_count": 1,
   "id": "d74c2a48-b398-4b20-9756-ae0713bbdb6c",
   "metadata": {
    "tags": []
   },
   "outputs": [],
   "source": [
    "import re\n",
    "import json\n",
    "import time\n",
    "import requests\n",
    "\n",
    "import pandas as pd\n",
    "import seaborn as sns\n",
    "\n",
    "from bs4 import BeautifulSoup\n",
    "from matplotlib import pyplot as plt"
   ]
  },
  {
   "cell_type": "markdown",
   "id": "a276f273-c901-4ea1-84e2-bf4e09c3c38f",
   "metadata": {},
   "source": [
    "## Part I: Working with HTML and JSON"
   ]
  },
  {
   "cell_type": "markdown",
   "id": "59c1717b-da97-4b4c-ab91-486f7b7a11b5",
   "metadata": {},
   "source": [
    "#### Reading data from the JSON file"
   ]
  },
  {
   "cell_type": "code",
   "execution_count": 2,
   "id": "5a666f45-fd5d-4654-addd-039025f63b42",
   "metadata": {},
   "outputs": [
    {
     "data": {
      "text/html": [
       "<div>\n",
       "<style scoped>\n",
       "    .dataframe tbody tr th:only-of-type {\n",
       "        vertical-align: middle;\n",
       "    }\n",
       "\n",
       "    .dataframe tbody tr th {\n",
       "        vertical-align: top;\n",
       "    }\n",
       "\n",
       "    .dataframe thead th {\n",
       "        text-align: right;\n",
       "    }\n",
       "</style>\n",
       "<table border=\"1\" class=\"dataframe\">\n",
       "  <thead>\n",
       "    <tr style=\"text-align: right;\">\n",
       "      <th></th>\n",
       "      <th>title</th>\n",
       "      <th>artist</th>\n",
       "      <th>year</th>\n",
       "      <th>tracks</th>\n",
       "    </tr>\n",
       "  </thead>\n",
       "  <tbody>\n",
       "    <tr>\n",
       "      <th>0</th>\n",
       "      <td>And Then</td>\n",
       "      <td>Christopher Martin</td>\n",
       "      <td>2019</td>\n",
       "      <td>[Life, Come Back, Bun Fi Bun, Can't Dweet Agai...</td>\n",
       "    </tr>\n",
       "    <tr>\n",
       "      <th>1</th>\n",
       "      <td>Mustard Seed</td>\n",
       "      <td>Nutty O</td>\n",
       "      <td>2021</td>\n",
       "      <td>[Open Doors, Safe, Ndiwe, Peter Pan, Ready, Ku...</td>\n",
       "    </tr>\n",
       "    <tr>\n",
       "      <th>2</th>\n",
       "      <td>Melody</td>\n",
       "      <td>Demarco</td>\n",
       "      <td>2021</td>\n",
       "      <td>[My Way, Do It Again, For You, In My Heart, St...</td>\n",
       "    </tr>\n",
       "  </tbody>\n",
       "</table>\n",
       "</div>"
      ],
      "text/plain": [
       "          title              artist  year  \\\n",
       "0      And Then  Christopher Martin  2019   \n",
       "1  Mustard Seed             Nutty O  2021   \n",
       "2        Melody             Demarco  2021   \n",
       "\n",
       "                                              tracks  \n",
       "0  [Life, Come Back, Bun Fi Bun, Can't Dweet Agai...  \n",
       "1  [Open Doors, Safe, Ndiwe, Peter Pan, Ready, Ku...  \n",
       "2  [My Way, Do It Again, For You, In My Heart, St...  "
      ]
     },
     "execution_count": 2,
     "metadata": {},
     "output_type": "execute_result"
    }
   ],
   "source": [
    "json_data = pd.read_json(\"https://raw.githubusercontent.com/ktxdev/AIM-5001/main/M9/1.%20Data/albums.json\")\n",
    "json_data"
   ]
  },
  {
   "cell_type": "markdown",
   "id": "4063778b-0e10-42e8-bc33-4d91936bed7e",
   "metadata": {},
   "source": [
    "#### Reading data from the HTML file"
   ]
  },
  {
   "cell_type": "code",
   "execution_count": 3,
   "id": "eb3163ee-000d-4b80-a614-eab26dc0ca9b",
   "metadata": {
    "tags": []
   },
   "outputs": [
    {
     "data": {
      "text/html": [
       "<div>\n",
       "<style scoped>\n",
       "    .dataframe tbody tr th:only-of-type {\n",
       "        vertical-align: middle;\n",
       "    }\n",
       "\n",
       "    .dataframe tbody tr th {\n",
       "        vertical-align: top;\n",
       "    }\n",
       "\n",
       "    .dataframe thead th {\n",
       "        text-align: right;\n",
       "    }\n",
       "</style>\n",
       "<table border=\"1\" class=\"dataframe\">\n",
       "  <thead>\n",
       "    <tr style=\"text-align: right;\">\n",
       "      <th></th>\n",
       "      <th>Title</th>\n",
       "      <th>Artist</th>\n",
       "      <th>Year</th>\n",
       "      <th>Tracks</th>\n",
       "    </tr>\n",
       "  </thead>\n",
       "  <tbody>\n",
       "    <tr>\n",
       "      <th>0</th>\n",
       "      <td>And Then</td>\n",
       "      <td>Christopher Martin</td>\n",
       "      <td>2019</td>\n",
       "      <td>Life  Come Back  Bun Fi Bun  Can't Dweet Again...</td>\n",
       "    </tr>\n",
       "    <tr>\n",
       "      <th>1</th>\n",
       "      <td>Mustard Seed</td>\n",
       "      <td>Nutty O</td>\n",
       "      <td>2021</td>\n",
       "      <td>Open Doors  Safe  Ndiwe  Ready  Kungfu  Peter Pan</td>\n",
       "    </tr>\n",
       "    <tr>\n",
       "      <th>2</th>\n",
       "      <td>Melody</td>\n",
       "      <td>Demarco</td>\n",
       "      <td>2021</td>\n",
       "      <td>My Way  Do It Again  For You  In My Heart  Stu...</td>\n",
       "    </tr>\n",
       "  </tbody>\n",
       "</table>\n",
       "</div>"
      ],
      "text/plain": [
       "          Title              Artist  Year  \\\n",
       "0      And Then  Christopher Martin  2019   \n",
       "1  Mustard Seed             Nutty O  2021   \n",
       "2        Melody             Demarco  2021   \n",
       "\n",
       "                                              Tracks  \n",
       "0  Life  Come Back  Bun Fi Bun  Can't Dweet Again...  \n",
       "1  Open Doors  Safe  Ndiwe  Ready  Kungfu  Peter Pan  \n",
       "2  My Way  Do It Again  For You  In My Heart  Stu...  "
      ]
     },
     "execution_count": 3,
     "metadata": {},
     "output_type": "execute_result"
    }
   ],
   "source": [
    "# Get first table in list returned\n",
    "html_data = pd.read_html(\"https://raw.githubusercontent.com/ktxdev/AIM-5001/main/M9/1.%20Data/albums.html\")[0]\n",
    "html_data"
   ]
  },
  {
   "cell_type": "code",
   "execution_count": 4,
   "id": "8d1dc538-2172-4908-b75a-e587dbe79d22",
   "metadata": {
    "tags": []
   },
   "outputs": [
    {
     "name": "stdout",
     "output_type": "stream",
     "text": [
      "Tracks Type (json_data):  <class 'list'>\n",
      "Tracks Type (html_data):  <class 'str'>\n"
     ]
    }
   ],
   "source": [
    "print(\"Tracks Type (json_data): \", type(json_data['tracks'][0]))\n",
    "print(\"Tracks Type (html_data): \", type(html_data['Tracks'][0]))"
   ]
  },
  {
   "cell_type": "markdown",
   "id": "941438c3-6ab5-41b4-9d77-9cf0db357e89",
   "metadata": {},
   "source": [
    "The two dataframes above have one column \"tracks\" that has differences, indicating that they are not truly the same. The data in the \"tracks\" column of `json_data` has a `Series` object that encompasses a `list` object, while the data in the \"tracks\" column of `html_data` also contains a `Series` object but the object encompasses a `str` object."
   ]
  },
  {
   "cell_type": "markdown",
   "id": "94f08adc-1be5-4fee-80eb-00d618dfe0aa",
   "metadata": {},
   "source": [
    "## Part II: Scraping the Katz School’s “Staff” Web Page"
   ]
  },
  {
   "cell_type": "code",
   "execution_count": 5,
   "id": "3ac26caa-99c1-4aca-b941-5f6ba42c3778",
   "metadata": {
    "tags": []
   },
   "outputs": [
    {
     "data": {
      "text/html": [
       "<div>\n",
       "<style scoped>\n",
       "    .dataframe tbody tr th:only-of-type {\n",
       "        vertical-align: middle;\n",
       "    }\n",
       "\n",
       "    .dataframe tbody tr th {\n",
       "        vertical-align: top;\n",
       "    }\n",
       "\n",
       "    .dataframe thead th {\n",
       "        text-align: right;\n",
       "    }\n",
       "</style>\n",
       "<table border=\"1\" class=\"dataframe\">\n",
       "  <thead>\n",
       "    <tr style=\"text-align: right;\">\n",
       "      <th></th>\n",
       "      <th>name</th>\n",
       "      <th>title</th>\n",
       "      <th>office</th>\n",
       "      <th>email</th>\n",
       "      <th>phone</th>\n",
       "    </tr>\n",
       "  </thead>\n",
       "  <tbody>\n",
       "    <tr>\n",
       "      <th>0</th>\n",
       "      <td>Paul Russo</td>\n",
       "      <td>Vice Provost and Dean</td>\n",
       "      <td>Office of the Dean</td>\n",
       "      <td>N/A</td>\n",
       "      <td>N/A</td>\n",
       "    </tr>\n",
       "    <tr>\n",
       "      <th>1</th>\n",
       "      <td>Aaron Ross</td>\n",
       "      <td>Assistant Dean for Academic Programs and Deput...</td>\n",
       "      <td>Office of the Dean</td>\n",
       "      <td>aaron.ross2@yu.edu</td>\n",
       "      <td>646-592-4148</td>\n",
       "    </tr>\n",
       "    <tr>\n",
       "      <th>2</th>\n",
       "      <td>Jackie Hamilton</td>\n",
       "      <td>Executive Director of Enrollment Management an...</td>\n",
       "      <td>Office of the Dean</td>\n",
       "      <td>jackie.hamilton@yu.edu</td>\n",
       "      <td>646-787-6194</td>\n",
       "    </tr>\n",
       "    <tr>\n",
       "      <th>3</th>\n",
       "      <td>Pamela Rodman</td>\n",
       "      <td>Director of Finance and Administration</td>\n",
       "      <td>Office of the Dean</td>\n",
       "      <td>pamela.rodman@yu.edu</td>\n",
       "      <td>646.592.4777</td>\n",
       "    </tr>\n",
       "    <tr>\n",
       "      <th>4</th>\n",
       "      <td>Tabitha Collazo</td>\n",
       "      <td>Business and Operations Coordinator</td>\n",
       "      <td>Office of the Dean</td>\n",
       "      <td>tabitha.collazo@yu.edu</td>\n",
       "      <td>646-592-4735</td>\n",
       "    </tr>\n",
       "    <tr>\n",
       "      <th>5</th>\n",
       "      <td>Ann Leary</td>\n",
       "      <td>Office Manager/Executive Assistant to the Dean...</td>\n",
       "      <td>Office of the Dean</td>\n",
       "      <td>ann.leary@yu.edu</td>\n",
       "      <td>646-592-4724</td>\n",
       "    </tr>\n",
       "    <tr>\n",
       "      <th>6</th>\n",
       "      <td>Jared Hakimi</td>\n",
       "      <td>Director</td>\n",
       "      <td>Graduate Admissions</td>\n",
       "      <td>jared.hakimi@yu.edu</td>\n",
       "      <td>646-592-4722</td>\n",
       "    </tr>\n",
       "    <tr>\n",
       "      <th>7</th>\n",
       "      <td>Xavier Velasquez</td>\n",
       "      <td>Associate Director of Graduate Admissions Oper...</td>\n",
       "      <td>Graduate Admissions</td>\n",
       "      <td>xavier.velasquez@yu.edu</td>\n",
       "      <td>646-592-4737</td>\n",
       "    </tr>\n",
       "    <tr>\n",
       "      <th>8</th>\n",
       "      <td>Shayna Matzner</td>\n",
       "      <td>Assistant Director</td>\n",
       "      <td>Graduate Admissions</td>\n",
       "      <td>shayna.matzner@yu.edu</td>\n",
       "      <td>646-592-4726</td>\n",
       "    </tr>\n",
       "    <tr>\n",
       "      <th>9</th>\n",
       "      <td>Linyu Zheng</td>\n",
       "      <td>Assistant Director</td>\n",
       "      <td>Graduate Admissions</td>\n",
       "      <td>linyu.zheng@yu.edu</td>\n",
       "      <td>1-332-271-5865</td>\n",
       "    </tr>\n",
       "    <tr>\n",
       "      <th>10</th>\n",
       "      <td>Hyokyeong \"Kyeong\" Yu</td>\n",
       "      <td>International Student Advisor</td>\n",
       "      <td>Graduate Admissions</td>\n",
       "      <td>hyokyeong.yu@yu.edu</td>\n",
       "      <td>646-592-4736</td>\n",
       "    </tr>\n",
       "    <tr>\n",
       "      <th>11</th>\n",
       "      <td>Aman Sharma</td>\n",
       "      <td>Recruitment Manager - South Asia</td>\n",
       "      <td>Graduate Admissions</td>\n",
       "      <td>N/A</td>\n",
       "      <td>91 870 053 5893</td>\n",
       "    </tr>\n",
       "    <tr>\n",
       "      <th>12</th>\n",
       "      <td>Rafael Reyes</td>\n",
       "      <td>Director of Graduate Student Life and Communit...</td>\n",
       "      <td>Graduate Student Life</td>\n",
       "      <td>rafael.reyes@yu.edu</td>\n",
       "      <td>646-592-4729</td>\n",
       "    </tr>\n",
       "    <tr>\n",
       "      <th>13</th>\n",
       "      <td>John Vivolo</td>\n",
       "      <td>Executive Director of Academic Operations and ...</td>\n",
       "      <td>Academic Operations and Teaching and Learning</td>\n",
       "      <td>john.vivolo@yu.edu</td>\n",
       "      <td>646-592-4743</td>\n",
       "    </tr>\n",
       "    <tr>\n",
       "      <th>14</th>\n",
       "      <td>Suzette Sadio</td>\n",
       "      <td>Academic Program Coordinator</td>\n",
       "      <td>Academic Operations and Teaching and Learning</td>\n",
       "      <td>suzette.sadio@yu.edu</td>\n",
       "      <td>646-592-4762</td>\n",
       "    </tr>\n",
       "    <tr>\n",
       "      <th>15</th>\n",
       "      <td>Gladys Davis</td>\n",
       "      <td>Program Manager</td>\n",
       "      <td>Academic Operations and Teaching and Learning</td>\n",
       "      <td>gladys.davis@yu.edu</td>\n",
       "      <td>646-592-4034</td>\n",
       "    </tr>\n",
       "    <tr>\n",
       "      <th>16</th>\n",
       "      <td>Shianne McLean</td>\n",
       "      <td>Program Assistant</td>\n",
       "      <td>Academic Operations and Teaching and Learning</td>\n",
       "      <td>shianne.mclean@yu.edu</td>\n",
       "      <td>N/A</td>\n",
       "    </tr>\n",
       "    <tr>\n",
       "      <th>17</th>\n",
       "      <td>Ariana Allias</td>\n",
       "      <td>Program Manager</td>\n",
       "      <td>Academic Operations and Teaching and Learning</td>\n",
       "      <td>ariana.allias@yu.edu</td>\n",
       "      <td>N/A</td>\n",
       "    </tr>\n",
       "    <tr>\n",
       "      <th>18</th>\n",
       "      <td>Lloyd Carew-Reid</td>\n",
       "      <td>Instructional Designer</td>\n",
       "      <td>Academic Operations and Teaching and Learning</td>\n",
       "      <td>lloyd.carew-reid@yu.edu</td>\n",
       "      <td>646-592-4768</td>\n",
       "    </tr>\n",
       "    <tr>\n",
       "      <th>19</th>\n",
       "      <td>Denton Field</td>\n",
       "      <td>Media Production Manager</td>\n",
       "      <td>Academic Operations and Teaching and Learning</td>\n",
       "      <td>denton.field@yu.edu</td>\n",
       "      <td>N/A</td>\n",
       "    </tr>\n",
       "  </tbody>\n",
       "</table>\n",
       "</div>"
      ],
      "text/plain": [
       "                     name                                              title  \\\n",
       "0              Paul Russo                              Vice Provost and Dean   \n",
       "1              Aaron Ross  Assistant Dean for Academic Programs and Deput...   \n",
       "2         Jackie Hamilton  Executive Director of Enrollment Management an...   \n",
       "3           Pamela Rodman             Director of Finance and Administration   \n",
       "4         Tabitha Collazo                Business and Operations Coordinator   \n",
       "5               Ann Leary  Office Manager/Executive Assistant to the Dean...   \n",
       "6            Jared Hakimi                                           Director   \n",
       "7        Xavier Velasquez  Associate Director of Graduate Admissions Oper...   \n",
       "8          Shayna Matzner                                 Assistant Director   \n",
       "9             Linyu Zheng                                 Assistant Director   \n",
       "10  Hyokyeong \"Kyeong\" Yu                      International Student Advisor   \n",
       "11            Aman Sharma                   Recruitment Manager - South Asia   \n",
       "12           Rafael Reyes  Director of Graduate Student Life and Communit...   \n",
       "13            John Vivolo  Executive Director of Academic Operations and ...   \n",
       "14          Suzette Sadio                       Academic Program Coordinator   \n",
       "15           Gladys Davis                                    Program Manager   \n",
       "16         Shianne McLean                                  Program Assistant   \n",
       "17          Ariana Allias                                    Program Manager   \n",
       "18       Lloyd Carew-Reid                             Instructional Designer   \n",
       "19           Denton Field                           Media Production Manager   \n",
       "\n",
       "                                           office                    email  \\\n",
       "0                              Office of the Dean                      N/A   \n",
       "1                              Office of the Dean       aaron.ross2@yu.edu   \n",
       "2                              Office of the Dean   jackie.hamilton@yu.edu   \n",
       "3                              Office of the Dean     pamela.rodman@yu.edu   \n",
       "4                              Office of the Dean   tabitha.collazo@yu.edu   \n",
       "5                              Office of the Dean         ann.leary@yu.edu   \n",
       "6                             Graduate Admissions      jared.hakimi@yu.edu   \n",
       "7                             Graduate Admissions  xavier.velasquez@yu.edu   \n",
       "8                             Graduate Admissions    shayna.matzner@yu.edu   \n",
       "9                             Graduate Admissions       linyu.zheng@yu.edu   \n",
       "10                            Graduate Admissions      hyokyeong.yu@yu.edu   \n",
       "11                            Graduate Admissions                      N/A   \n",
       "12                          Graduate Student Life      rafael.reyes@yu.edu   \n",
       "13  Academic Operations and Teaching and Learning       john.vivolo@yu.edu   \n",
       "14  Academic Operations and Teaching and Learning     suzette.sadio@yu.edu   \n",
       "15  Academic Operations and Teaching and Learning      gladys.davis@yu.edu   \n",
       "16  Academic Operations and Teaching and Learning    shianne.mclean@yu.edu   \n",
       "17  Academic Operations and Teaching and Learning     ariana.allias@yu.edu   \n",
       "18  Academic Operations and Teaching and Learning  lloyd.carew-reid@yu.edu   \n",
       "19  Academic Operations and Teaching and Learning      denton.field@yu.edu   \n",
       "\n",
       "              phone  \n",
       "0               N/A  \n",
       "1     646-592-4148   \n",
       "2      646-787-6194  \n",
       "3      646.592.4777  \n",
       "4      646-592-4735  \n",
       "5      646-592-4724  \n",
       "6     646-592-4722   \n",
       "7     646-592-4737   \n",
       "8     646-592-4726   \n",
       "9   1-332-271-5865   \n",
       "10     646-592-4736  \n",
       "11  91 870 053 5893  \n",
       "12     646-592-4729  \n",
       "13     646-592-4743  \n",
       "14     646-592-4762  \n",
       "15     646-592-4034  \n",
       "16              N/A  \n",
       "17              N/A  \n",
       "18     646-592-4768  \n",
       "19              N/A  "
      ]
     },
     "execution_count": 5,
     "metadata": {},
     "output_type": "execute_result"
    }
   ],
   "source": [
    "# Get the staff page\n",
    "page = requests.get(\"https://www.yu.edu/katz/staff\")\n",
    "# Parse staff page content\n",
    "soup = BeautifulSoup(page.content, 'html.parser')\n",
    "\n",
    "# Find the div that contains all the staff information\n",
    "staff = soup.find('div', class_=\"text-only\")\n",
    "\n",
    "# Creating a dataframe for staff information\n",
    "staff_info = pd.DataFrame(columns = [\"name\", \"title\", \"office\", \"email\", \"phone\"])\n",
    "\n",
    "# Current cursor position\n",
    "current = staff.find('div').find('h3')\n",
    "current_office = None\n",
    "\n",
    "# Loop over all staff information\n",
    "while current:\n",
    "    if current.name == 'h3':\n",
    "        current_office = current.contents[0].strip() # Get office name\n",
    "\n",
    "    elif current.name == 'p' and current.contents[0].strip() != \"\": \n",
    "        # Get contents of the p tag\n",
    "        contents = current.contents\n",
    "        \n",
    "        # Create dict for the staff member\n",
    "        staff_member = { \"name\": contents[0].split(\",\")[0], \"office\": current_office, \"email\": \"N/A\", \"phone\": \"N/A\" }\n",
    "        \n",
    "        # Set current member's title\n",
    "        if current.find('span'):\n",
    "            staff_member[\"title\"] = current.find('span').contents[0].strip()\n",
    "        else:\n",
    "            staff_member[\"title\"] = contents[0].split(\",\")[1].strip()\n",
    "        \n",
    "        # Set current member's email if it exists\n",
    "        mail = current.find('a')\n",
    "        if mail.get(\"href\").startswith(\"mailto\"):\n",
    "            staff_member[\"email\"] = mail.contents[0]\n",
    "            \n",
    "        # Extract current member's phone number using regex\n",
    "        phone = re.findall(r\"[0-9-. ]{10,}\", current.text)\n",
    "\n",
    "        # Set current member's phone number if it exists\n",
    "        if phone:\n",
    "            staff_member[\"phone\"] = phone[0]\n",
    "        \n",
    "        # Add member infomation to the dataframe\n",
    "        staff_info = pd.concat([staff_info, pd.DataFrame([staff_member])], ignore_index = True)\n",
    "    \n",
    "    # Move cursor to next html tag\n",
    "    current = current.find_next_sibling()\n",
    "\n",
    "\n",
    "staff_info"
   ]
  },
  {
   "cell_type": "markdown",
   "id": "3545742d",
   "metadata": {},
   "source": [
    "The data in the `staff_info` dataframe appropriately represent the information on Yeshiva University's staff page."
   ]
  },
  {
   "cell_type": "markdown",
   "id": "f18b5df5-f839-48f1-9c60-41a569cc4383",
   "metadata": {},
   "source": [
    "## Part III: Working with Web API’s"
   ]
  },
  {
   "cell_type": "code",
   "execution_count": 6,
   "id": "ae7a2f14-a209-405a-8b36-76108154b2ba",
   "metadata": {
    "tags": []
   },
   "outputs": [
    {
     "data": {
      "text/html": [
       "<div>\n",
       "<style scoped>\n",
       "    .dataframe tbody tr th:only-of-type {\n",
       "        vertical-align: middle;\n",
       "    }\n",
       "\n",
       "    .dataframe tbody tr th {\n",
       "        vertical-align: top;\n",
       "    }\n",
       "\n",
       "    .dataframe thead th {\n",
       "        text-align: right;\n",
       "    }\n",
       "</style>\n",
       "<table border=\"1\" class=\"dataframe\">\n",
       "  <thead>\n",
       "    <tr style=\"text-align: right;\">\n",
       "      <th></th>\n",
       "      <th>title</th>\n",
       "      <th>category</th>\n",
       "      <th>language</th>\n",
       "      <th>creator</th>\n",
       "      <th>keywords</th>\n",
       "      <th>pubDate</th>\n",
       "    </tr>\n",
       "  </thead>\n",
       "  <tbody>\n",
       "    <tr>\n",
       "      <th>0</th>\n",
       "      <td>Le film VR Mobile Suit Gundam : Silver Phantom...</td>\n",
       "      <td>[entertainment]</td>\n",
       "      <td>french</td>\n",
       "      <td>None</td>\n",
       "      <td>[entertainment, playstation vr 2, mobile suit ...</td>\n",
       "      <td>2024-03-24 13:23:50</td>\n",
       "    </tr>\n",
       "    <tr>\n",
       "      <th>1</th>\n",
       "      <td>Pogačar je potrdil popolno dominacijo in slavi...</td>\n",
       "      <td>[top]</td>\n",
       "      <td>slovenian</td>\n",
       "      <td>None</td>\n",
       "      <td>[kolesarstvo]</td>\n",
       "      <td>2024-03-24 13:23:17</td>\n",
       "    </tr>\n",
       "    <tr>\n",
       "      <th>2</th>\n",
       "      <td>Did You Know About Ashley Nocera Net Worth?</td>\n",
       "      <td>[entertainment]</td>\n",
       "      <td>english</td>\n",
       "      <td>[Aditi Malhotra]</td>\n",
       "      <td>[entertainment, 10k calorie challenge, alex sh...</td>\n",
       "      <td>2024-03-24 13:22:52</td>\n",
       "    </tr>\n",
       "    <tr>\n",
       "      <th>3</th>\n",
       "      <td>The 102 Best Amazon Big Spring Sale Deals to S...</td>\n",
       "      <td>[top]</td>\n",
       "      <td>english</td>\n",
       "      <td>[Adam Oram]</td>\n",
       "      <td>None</td>\n",
       "      <td>2024-03-24 13:21:00</td>\n",
       "    </tr>\n",
       "    <tr>\n",
       "      <th>4</th>\n",
       "      <td>The 102 Best Amazon Big Spring Sale Deals to S...</td>\n",
       "      <td>[technology]</td>\n",
       "      <td>english</td>\n",
       "      <td>[Adam Oram]</td>\n",
       "      <td>None</td>\n",
       "      <td>2024-03-24 13:21:00</td>\n",
       "    </tr>\n",
       "    <tr>\n",
       "      <th>5</th>\n",
       "      <td>The 102 Best Amazon Big Spring Sale Deals to S...</td>\n",
       "      <td>[other]</td>\n",
       "      <td>english</td>\n",
       "      <td>[Adam Oram]</td>\n",
       "      <td>None</td>\n",
       "      <td>2024-03-24 13:21:00</td>\n",
       "    </tr>\n",
       "    <tr>\n",
       "      <th>6</th>\n",
       "      <td>The 102 Best Amazon Big Spring Sale Deals to S...</td>\n",
       "      <td>[top]</td>\n",
       "      <td>english</td>\n",
       "      <td>[Adam Oram]</td>\n",
       "      <td>None</td>\n",
       "      <td>2024-03-24 13:21:00</td>\n",
       "    </tr>\n",
       "    <tr>\n",
       "      <th>7</th>\n",
       "      <td>56 Female Green Economy Entrepreneurs to Win $...</td>\n",
       "      <td>[top]</td>\n",
       "      <td>english</td>\n",
       "      <td>[Roland Oby Ogbonnaya]</td>\n",
       "      <td>[news]</td>\n",
       "      <td>2024-03-24 13:20:05</td>\n",
       "    </tr>\n",
       "    <tr>\n",
       "      <th>8</th>\n",
       "      <td>How to make your iPhone go faster</td>\n",
       "      <td>[top]</td>\n",
       "      <td>english</td>\n",
       "      <td>None</td>\n",
       "      <td>None</td>\n",
       "      <td>2024-03-24 13:19:47</td>\n",
       "    </tr>\n",
       "    <tr>\n",
       "      <th>9</th>\n",
       "      <td>How to make your iPhone go faster</td>\n",
       "      <td>[top]</td>\n",
       "      <td>english</td>\n",
       "      <td>None</td>\n",
       "      <td>None</td>\n",
       "      <td>2024-03-24 13:19:47</td>\n",
       "    </tr>\n",
       "  </tbody>\n",
       "</table>\n",
       "</div>"
      ],
      "text/plain": [
       "                                               title         category  \\\n",
       "0  Le film VR Mobile Suit Gundam : Silver Phantom...  [entertainment]   \n",
       "1  Pogačar je potrdil popolno dominacijo in slavi...            [top]   \n",
       "2        Did You Know About Ashley Nocera Net Worth?  [entertainment]   \n",
       "3  The 102 Best Amazon Big Spring Sale Deals to S...            [top]   \n",
       "4  The 102 Best Amazon Big Spring Sale Deals to S...     [technology]   \n",
       "5  The 102 Best Amazon Big Spring Sale Deals to S...          [other]   \n",
       "6  The 102 Best Amazon Big Spring Sale Deals to S...            [top]   \n",
       "7  56 Female Green Economy Entrepreneurs to Win $...            [top]   \n",
       "8                  How to make your iPhone go faster            [top]   \n",
       "9                  How to make your iPhone go faster            [top]   \n",
       "\n",
       "    language                 creator  \\\n",
       "0     french                    None   \n",
       "1  slovenian                    None   \n",
       "2    english        [Aditi Malhotra]   \n",
       "3    english             [Adam Oram]   \n",
       "4    english             [Adam Oram]   \n",
       "5    english             [Adam Oram]   \n",
       "6    english             [Adam Oram]   \n",
       "7    english  [Roland Oby Ogbonnaya]   \n",
       "8    english                    None   \n",
       "9    english                    None   \n",
       "\n",
       "                                            keywords              pubDate  \n",
       "0  [entertainment, playstation vr 2, mobile suit ...  2024-03-24 13:23:50  \n",
       "1                                      [kolesarstvo]  2024-03-24 13:23:17  \n",
       "2  [entertainment, 10k calorie challenge, alex sh...  2024-03-24 13:22:52  \n",
       "3                                               None  2024-03-24 13:21:00  \n",
       "4                                               None  2024-03-24 13:21:00  \n",
       "5                                               None  2024-03-24 13:21:00  \n",
       "6                                               None  2024-03-24 13:21:00  \n",
       "7                                             [news]  2024-03-24 13:20:05  \n",
       "8                                               None  2024-03-24 13:19:47  \n",
       "9                                               None  2024-03-24 13:19:47  "
      ]
     },
     "execution_count": 6,
     "metadata": {},
     "output_type": "execute_result"
    }
   ],
   "source": [
    "base_url = \"https://newsdata.io/api/1/news?apikey=pub_4046009183297c1193f8a39cd7e388da89a99&q=tech\"\n",
    "res = requests.get(base_url)\n",
    "\n",
    "# Load API response as JSON\n",
    "json_data = json.loads(res.text)\n",
    "\n",
    "# Create dataframe for the data\n",
    "data_columns = [\"title\", \"category\", \"language\", \"creator\", \"keywords\", \"pubDate\"]\n",
    "data = pd.DataFrame(json_data[\"results\"], columns = data_columns)\n",
    "\n",
    "# Loops five times to get more news from API\n",
    "for i in range(5):\n",
    "    time.sleep(1) # Delay execution to avoid rate limit exception\n",
    "    \n",
    "    res = requests.get(f\"{base_url}&page={json_data['nextPage']}\")\n",
    "    json_data = json.loads(res.text)\n",
    "    \n",
    "    new_data = pd.DataFrame(json_data[\"results\"], columns = data_columns)\n",
    "    data = pd.concat([data, new_data], ignore_index = True)\n",
    "\n",
    "\n",
    "data.head(10)"
   ]
  },
  {
   "cell_type": "markdown",
   "id": "28369fc8",
   "metadata": {},
   "source": [
    "### Creating subset of original data"
   ]
  },
  {
   "cell_type": "code",
   "execution_count": 7,
   "id": "20f5ddd8",
   "metadata": {},
   "outputs": [
    {
     "data": {
      "text/html": [
       "<div>\n",
       "<style scoped>\n",
       "    .dataframe tbody tr th:only-of-type {\n",
       "        vertical-align: middle;\n",
       "    }\n",
       "\n",
       "    .dataframe tbody tr th {\n",
       "        vertical-align: top;\n",
       "    }\n",
       "\n",
       "    .dataframe thead th {\n",
       "        text-align: right;\n",
       "    }\n",
       "</style>\n",
       "<table border=\"1\" class=\"dataframe\">\n",
       "  <thead>\n",
       "    <tr style=\"text-align: right;\">\n",
       "      <th></th>\n",
       "      <th>category</th>\n",
       "      <th>language</th>\n",
       "    </tr>\n",
       "  </thead>\n",
       "  <tbody>\n",
       "    <tr>\n",
       "      <th>0</th>\n",
       "      <td>[entertainment]</td>\n",
       "      <td>french</td>\n",
       "    </tr>\n",
       "    <tr>\n",
       "      <th>1</th>\n",
       "      <td>[top]</td>\n",
       "      <td>slovenian</td>\n",
       "    </tr>\n",
       "    <tr>\n",
       "      <th>2</th>\n",
       "      <td>[entertainment]</td>\n",
       "      <td>english</td>\n",
       "    </tr>\n",
       "    <tr>\n",
       "      <th>3</th>\n",
       "      <td>[top]</td>\n",
       "      <td>english</td>\n",
       "    </tr>\n",
       "    <tr>\n",
       "      <th>4</th>\n",
       "      <td>[technology]</td>\n",
       "      <td>english</td>\n",
       "    </tr>\n",
       "  </tbody>\n",
       "</table>\n",
       "</div>"
      ],
      "text/plain": [
       "          category   language\n",
       "0  [entertainment]     french\n",
       "1            [top]  slovenian\n",
       "2  [entertainment]    english\n",
       "3            [top]    english\n",
       "4     [technology]    english"
      ]
     },
     "execution_count": 7,
     "metadata": {},
     "output_type": "execute_result"
    }
   ],
   "source": [
    "# Slicing columns to extract attributes for analysis\n",
    "data2  = data[[\"category\", \"language\"]]\n",
    "data2.head()"
   ]
  },
  {
   "cell_type": "markdown",
   "id": "7efa750b",
   "metadata": {},
   "source": [
    "### Converting category column to string objects"
   ]
  },
  {
   "cell_type": "code",
   "execution_count": 8,
   "id": "1a586d03",
   "metadata": {},
   "outputs": [],
   "source": [
    "# Creating a copy of data2\n",
    "data3 = data2.copy()\n",
    "data3[\"category\"] = data3[\"category\"].apply(lambda cat: '+'.join(cat))"
   ]
  },
  {
   "cell_type": "markdown",
   "id": "b3e3e3eb",
   "metadata": {},
   "source": [
    "### Checking for nulls"
   ]
  },
  {
   "cell_type": "code",
   "execution_count": 9,
   "id": "d7ed1201",
   "metadata": {},
   "outputs": [
    {
     "data": {
      "text/plain": [
       "Index([], dtype='object')"
      ]
     },
     "execution_count": 9,
     "metadata": {},
     "output_type": "execute_result"
    }
   ],
   "source": [
    "data3.columns[data3.isnull().any()]"
   ]
  },
  {
   "cell_type": "markdown",
   "id": "18f5bfca",
   "metadata": {},
   "source": [
    "**Discussion of results:** According to the analysis above, the dataset does not contains null or missing values."
   ]
  },
  {
   "cell_type": "markdown",
   "id": "68b48a51",
   "metadata": {},
   "source": [
    "### Descriptive statistics\n",
    "#### Category"
   ]
  },
  {
   "cell_type": "code",
   "execution_count": 10,
   "id": "86c2480e",
   "metadata": {},
   "outputs": [
    {
     "name": "stdout",
     "output_type": "stream",
     "text": [
      "category\n",
      "top              32\n",
      "technology       10\n",
      "business          9\n",
      "entertainment     3\n",
      "politics          2\n",
      "other             1\n",
      "science           1\n",
      "food              1\n",
      "sports            1\n",
      "Name: count, dtype: int64\n",
      "category\n",
      "top              0.533333\n",
      "technology       0.166667\n",
      "business         0.150000\n",
      "entertainment    0.050000\n",
      "politics         0.033333\n",
      "other            0.016667\n",
      "science          0.016667\n",
      "food             0.016667\n",
      "sports           0.016667\n",
      "Name: count, dtype: float64\n"
     ]
    }
   ],
   "source": [
    "print(data3['category'].value_counts())\n",
    "print(data3['category'].value_counts() / len(data3))"
   ]
  },
  {
   "cell_type": "markdown",
   "id": "3d2a73af",
   "metadata": {},
   "source": [
    "**Discussion of results:** According to the data, approximately 53.33% are top news, 16.67% are technology news, 15% are business news, and the remaining categories (politics, entertainment, health, and others) account for 15%. "
   ]
  },
  {
   "cell_type": "code",
   "execution_count": 11,
   "id": "95abcb88",
   "metadata": {},
   "outputs": [
    {
     "data": {
      "image/png": "[encoded data removed]",
      "text/plain": [
       "<Figure size 640x480 with 1 Axes>"
      ]
     },
     "metadata": {},
     "output_type": "display_data"
    }
   ],
   "source": [
    "# Seaborn graph of Category\n",
    "sns.countplot(x = 'category', data = data3)\n",
    "\n",
    "# give the plot a title\n",
    "plt.title('Category Bar Chart')\n",
    "plt.xlabel('Category')\n",
    "plt.xticks(rotation = 70)\n",
    "plt.ylabel('Count')\n",
    "plt.show()"
   ]
  },
  {
   "cell_type": "markdown",
   "id": "bb3dfa99",
   "metadata": {},
   "source": [
    "**Discussion of Result:** According to the counts for each group, this bar chart simply shows that top news appears the most frequently in the dataset, followed by technology and then business."
   ]
  },
  {
   "cell_type": "markdown",
   "id": "a617215a",
   "metadata": {},
   "source": [
    "#### Language"
   ]
  },
  {
   "cell_type": "code",
   "execution_count": 12,
   "id": "0a8f7ae4",
   "metadata": {},
   "outputs": [
    {
     "name": "stdout",
     "output_type": "stream",
     "text": [
      "language\n",
      "english          47\n",
      "spanish           3\n",
      "french            2\n",
      "vietnamese        2\n",
      "slovenian         1\n",
      "luxembourgish     1\n",
      "chinese           1\n",
      "portuguese        1\n",
      "turkish           1\n",
      "dutch             1\n",
      "Name: count, dtype: int64\n",
      "language\n",
      "english          0.783333\n",
      "spanish          0.050000\n",
      "french           0.033333\n",
      "vietnamese       0.033333\n",
      "slovenian        0.016667\n",
      "luxembourgish    0.016667\n",
      "chinese          0.016667\n",
      "portuguese       0.016667\n",
      "turkish          0.016667\n",
      "dutch            0.016667\n",
      "Name: count, dtype: float64\n"
     ]
    }
   ],
   "source": [
    "print(data2['language'].value_counts())\n",
    "print(data2['language'].value_counts() / len(data2))"
   ]
  },
  {
   "cell_type": "markdown",
   "id": "24ae9d4e",
   "metadata": {},
   "source": [
    "**Discussion of results:** According to the data, the majority of news stories are written in English, accounting for 78.33%, with the remaining amount distributed among the other languages."
   ]
  },
  {
   "cell_type": "code",
   "execution_count": 13,
   "id": "aa385d87",
   "metadata": {},
   "outputs": [
    {
     "data": {
      "image/png": "[encoded data removed]",
      "text/plain": [
       "<Figure size 640x480 with 1 Axes>"
      ]
     },
     "metadata": {},
     "output_type": "display_data"
    }
   ],
   "source": [
    "# Seaborn graph of Category\n",
    "sns.countplot(x = 'language', data = data3)\n",
    "\n",
    "# give the plot a title\n",
    "plt.title('Language Bar Chart')\n",
    "plt.xlabel('Language')\n",
    "plt.xticks(rotation = 70)\n",
    "plt.ylabel('Count')\n",
    "plt.show()"
   ]
  },
  {
   "cell_type": "markdown",
   "id": "d24933cd",
   "metadata": {},
   "source": [
    "**Discussion of Results:** Based on the numbers for each group, this bar chart simply demonstrates that English news category occurs the most frequently."
   ]
  }
 ],
 "metadata": {
  "kernelspec": {
   "display_name": "Python 3 (ipykernel)",
   "language": "python",
   "name": "python3"
  },
  "language_info": {
   "codemirror_mode": {
    "name": "ipython",
    "version": 3
   },
   "file_extension": ".py",
   "mimetype": "text/x-python",
   "name": "python",
   "nbconvert_exporter": "python",
   "pygments_lexer": "ipython3",
   "version": "3.11.5"
  }
 },
 "nbformat": 4,
 "nbformat_minor": 5
}
