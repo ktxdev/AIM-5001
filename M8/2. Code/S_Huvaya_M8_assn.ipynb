{
 "cells": [
  {
   "cell_type": "code",
   "execution_count": 20,
   "id": "06698db3-8a78-4d6e-b458-de9bd299108c",
   "metadata": {
    "tags": []
   },
   "outputs": [],
   "source": [
    "import pandas as pd\n",
    "import seaborn as sns\n",
    "import matplotlib.pyplot as plt\n",
    "\n",
    "diamond_df = pd.read_csv(\"https://raw.githubusercontent.com/ktxdev/AIM-5001/main/M8/1.%20Data/diamonds.csv\")"
   ]
  },
  {
   "cell_type": "markdown",
   "id": "7dd1825f-f9b4-4093-9d08-2168d0b1a27b",
   "metadata": {},
   "source": [
    "# Part 1: Data Summary\n",
    "\n",
    "#### How many use cases?"
   ]
  },
  {
   "cell_type": "code",
   "execution_count": 21,
   "id": "1a05e054-d875-4b3a-ae8c-e64c170e01e7",
   "metadata": {
    "tags": []
   },
   "outputs": [
    {
     "data": {
      "text/plain": [
       "53940"
      ]
     },
     "execution_count": 21,
     "metadata": {},
     "output_type": "execute_result"
    }
   ],
   "source": [
    "len(diamond_df)"
   ]
  },
  {
   "cell_type": "markdown",
   "id": "e46e01d3-3233-4359-b913-5095fe7c3f97",
   "metadata": {},
   "source": [
    "#### How many attributes are in each use case"
   ]
  },
  {
   "cell_type": "code",
   "execution_count": 22,
   "id": "23ea84ef-b519-4968-b1c4-94faa4ebfa31",
   "metadata": {
    "tags": []
   },
   "outputs": [
    {
     "data": {
      "text/plain": [
       "11"
      ]
     },
     "execution_count": 22,
     "metadata": {},
     "output_type": "execute_result"
    }
   ],
   "source": [
    "len(diamond_df.columns)"
   ]
  },
  {
   "cell_type": "markdown",
   "id": "bacffee1-7c4c-4da4-9970-8510002e7f59",
   "metadata": {
    "tags": []
   },
   "source": [
    "#### What the data types are for each of the attributes?"
   ]
  },
  {
   "cell_type": "code",
   "execution_count": 23,
   "id": "6c2cc922-2960-4924-98c8-391bb85fde3c",
   "metadata": {
    "tags": []
   },
   "outputs": [
    {
     "data": {
      "text/plain": [
       "Unnamed: 0      int64\n",
       "carat         float64\n",
       "cut            object\n",
       "color          object\n",
       "clarity        object\n",
       "depth         float64\n",
       "table         float64\n",
       "price           int64\n",
       "x             float64\n",
       "y             float64\n",
       "z             float64\n",
       "dtype: object"
      ]
     },
     "execution_count": 23,
     "metadata": {},
     "output_type": "execute_result"
    }
   ],
   "source": [
    "diamond_df.dtypes"
   ]
  },
  {
   "cell_type": "markdown",
   "id": "4099cf0e-2131-48cf-8373-ba653963b8da",
   "metadata": {},
   "source": [
    "# Part 2: Exploratory Data Analysis"
   ]
  },
  {
   "cell_type": "markdown",
   "id": "439e2f77-aa85-42f4-a3fe-868e2c56966e",
   "metadata": {
    "tags": []
   },
   "source": [
    "## Cut\n",
    "### Summary Statistics"
   ]
  },
  {
   "cell_type": "code",
   "execution_count": 24,
   "id": "b0e0c1d6-7753-4532-b1d1-243c11b9746b",
   "metadata": {
    "tags": []
   },
   "outputs": [
    {
     "data": {
      "text/plain": [
       "count     53940\n",
       "unique        5\n",
       "top       Ideal\n",
       "freq      21551\n",
       "Name: cut, dtype: object"
      ]
     },
     "execution_count": 24,
     "metadata": {},
     "output_type": "execute_result"
    }
   ],
   "source": [
    "diamond_df['cut'].describe()"
   ]
  },
  {
   "cell_type": "markdown",
   "id": "cf8b9a4f-c67d-46fb-9416-f6e987ed62f3",
   "metadata": {},
   "source": [
    "The cut attribute is composed of 5 unique categorical values, with the most frequently occurring value being 'Ideal', which has a frequency count of 21551."
   ]
  },
  {
   "cell_type": "markdown",
   "id": "77087b6c-0c82-4eb1-a8f9-97bc78d399a1",
   "metadata": {},
   "source": [
    "### Possible values for the \"Cut\" attribute"
   ]
  },
  {
   "cell_type": "code",
   "execution_count": 25,
   "id": "31940a31-30f6-4bf6-996f-08c85039717b",
   "metadata": {
    "tags": []
   },
   "outputs": [
    {
     "data": {
      "text/plain": [
       "array(['Ideal', 'Premium', 'Good', 'Very Good', 'Fair'], dtype=object)"
      ]
     },
     "execution_count": 25,
     "metadata": {},
     "output_type": "execute_result"
    }
   ],
   "source": [
    "diamond_df['cut'].unique()"
   ]
  },
  {
   "cell_type": "markdown",
   "id": "55de2edc-5dd8-4ccf-99ce-1a584b0c2877",
   "metadata": {},
   "source": [
    "### Value counts for the \"Cut\" attribute"
   ]
  },
  {
   "cell_type": "code",
   "execution_count": 26,
   "id": "8ce8fae6-7af3-48f2-b609-493083f8914e",
   "metadata": {
    "tags": []
   },
   "outputs": [
    {
     "data": {
      "text/plain": [
       "cut\n",
       "Ideal        21551\n",
       "Premium      13791\n",
       "Very Good    12082\n",
       "Good          4906\n",
       "Fair          1610\n",
       "Name: count, dtype: int64"
      ]
     },
     "execution_count": 26,
     "metadata": {},
     "output_type": "execute_result"
    }
   ],
   "source": [
    "diamond_df['cut'].value_counts()"
   ]
  },
  {
   "cell_type": "code",
   "execution_count": null,
   "id": "63199840-b240-4c12-aa2d-5850cdcfecc8",
   "metadata": {},
   "outputs": [],
   "source": []
  }
 ],
 "metadata": {
  "kernelspec": {
   "display_name": "Python 3 (ipykernel)",
   "language": "python",
   "name": "python3"
  },
  "language_info": {
   "codemirror_mode": {
    "name": "ipython",
    "version": 3
   },
   "file_extension": ".py",
   "mimetype": "text/x-python",
   "name": "python",
   "nbconvert_exporter": "python",
   "pygments_lexer": "ipython3",
   "version": "3.11.5"
  }
 },
 "nbformat": 4,
 "nbformat_minor": 5
}
