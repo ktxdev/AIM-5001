{
 "cells": [
  {
   "cell_type": "code",
   "execution_count": 35,
   "id": "14f96dba-d4fe-4f60-97fc-2dd1aedb3b01",
   "metadata": {
    "tags": []
   },
   "outputs": [],
   "source": [
    "class Individual(dict):\n",
    "    \n",
    "    IMMUTABLE_FEILDS = ['Date of Birth', 'Country of Birth', 'Town of Birth', 'Start date of residency']\n",
    "    \n",
    "    def __init__(self):\n",
    "        super().__init__()\n",
    "        self.update({\n",
    "            \"Resident Registration Number\": None,\n",
    "            \"Name\": None,\n",
    "            \"Date of Birth\": None, # Format MM/DD/YYYY\n",
    "            \"Country of Birth\": None,\n",
    "            \"Town of Birth\": None,\n",
    "            \"Start date of residency\": None,\n",
    "            \"Addresses Lived At\": [\n",
    "                {\n",
    "                    \"Address\": None,\n",
    "                    \"Created Date\": None # Format MM/DD/YYYY\n",
    "                }\n",
    "            ]\n",
    "        })\n",
    "\n",
    "    def __setitem__(self, key, value):\n",
    "        if key not in self:\n",
    "            return\n",
    "        \n",
    "        if bool(self[key]) and key in Individual.IMMUTABLE_FEILDS:\n",
    "            raise Exception(f\"{key} cannot be edited\")\n",
    "            \n",
    "        super().__setitem__(key, value)\n",
    "\n",
    "\n",
    "    def your_function(resident_data, resident_name, new_address):\n",
    "        \n",
    "\n",
    "    return (resident_data)\n"
   ]
  },
  {
   "cell_type": "code",
   "execution_count": 43,
   "id": "8976688f-922a-486e-a231-fdb0fe711126",
   "metadata": {
    "tags": []
   },
   "outputs": [
    {
     "data": {
      "text/plain": [
       "array([[15, 10,  5],\n",
       "       [14,  9,  4],\n",
       "       [13,  8,  3],\n",
       "       [12,  7,  2],\n",
       "       [11,  6,  1]])"
      ]
     },
     "execution_count": 43,
     "metadata": {},
     "output_type": "execute_result"
    }
   ],
   "source": [
    "import numpy as np\n",
    "\n",
    "np.arange(15, 0, -1).reshape((5, 3), order=\"F\")"
   ]
  },
  {
   "cell_type": "code",
   "execution_count": 49,
   "id": "439474eb-9bde-45aa-85bb-d5babe327c48",
   "metadata": {
    "tags": []
   },
   "outputs": [
    {
     "data": {
      "text/plain": [
       "[]"
      ]
     },
     "execution_count": 49,
     "metadata": {},
     "output_type": "execute_result"
    }
   ],
   "source": [
    "import re\n",
    "\n",
    "\n",
    "text = ''' Upcoming Webinars:\n",
    "\n",
    "Responsible AI: Debugging AI models for errors, fairness, and explainability\n",
    "\n",
    "Tue, Mar 21, 2023, 12:00 PM - 1:00 PM EST\n",
    "\n",
    "This session will illustrate how to use model Error Analysis, Data Analysis, Explainability/Interpretability, Counterfactual/What-If, and Casual analysis to debug and mitigate model issues faster.  \n",
    "\n",
    "===========\n",
    "\n",
    "How to build stunning Data Science Web applications in Python\n",
    "\n",
    "Thu, Mar 23, 2023, 2:30 PM - 3:30 PM GST\n",
    "\n",
    "This webinar presents Taipy, a new low-code Python package that allows you to create complete Data Science applications, including graphical visualization and the management of algorithms, models, and pipelines.\n",
    "\n",
    "==========\n",
    "\n",
    "Architectures for Running ML at the Edge\n",
    "\n",
    "Mon, Mar 27, 2023, 10:15 AM - 11:15 PM MST\n",
    "\n",
    "In this webinar, we will explore different paradigms for edge deployment of ML models, including federated learning, cloud-edge hybrid architectures, and standalone edge models.\n",
    "\n",
    "Mar 21 12:00 PM EST\n",
    "'''\n",
    "pattern = re.compile(r'[A-Z]{3}\\s[27]{2}\\s')\n",
    "\n",
    "pattern.findall(text)\n",
    "\n"
   ]
  },
  {
   "cell_type": "code",
   "execution_count": null,
   "id": "2e0f2de7-6e53-4c74-8cca-19a076676676",
   "metadata": {},
   "outputs": [],
   "source": []
  }
 ],
 "metadata": {
  "kernelspec": {
   "display_name": "Python 3 (ipykernel)",
   "language": "python",
   "name": "python3"
  },
  "language_info": {
   "codemirror_mode": {
    "name": "ipython",
    "version": 3
   },
   "file_extension": ".py",
   "mimetype": "text/x-python",
   "name": "python",
   "nbconvert_exporter": "python",
   "pygments_lexer": "ipython3",
   "version": "3.11.5"
  }
 },
 "nbformat": 4,
 "nbformat_minor": 5
}
