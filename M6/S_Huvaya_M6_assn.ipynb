{
 "cells": [
  {
   "cell_type": "code",
   "execution_count": 1,
   "id": "bc557667",
   "metadata": {},
   "outputs": [],
   "source": [
    "import numpy as np\n",
    "\n",
    "from functools import reduce"
   ]
  },
  {
   "cell_type": "markdown",
   "id": "bd077bc4",
   "metadata": {},
   "source": [
    "## Task 1\n",
    "\n",
    "The code uses the numpy's ```intersect1d``` function that finds the intersection of 2 arrays. Since the task is to find the intersection of 3 ```ndarrays``` the code uses the ```reduce``` function from ```functools``` package. The ```reduce``` function will use the ```intersect1d``` to reduce the tuple of the 3 arrays cummulatively to reduce it to a single array containing only the values that appear in all the arrays. First the cummulative array is used to get the intersection of array a and array b then uses the result to get the intersection of the result array and array c, and stores the value in the result variable."
   ]
  },
  {
   "cell_type": "code",
   "execution_count": 2,
   "id": "8c02e38a",
   "metadata": {},
   "outputs": [
    {
     "name": "stdout",
     "output_type": "stream",
     "text": [
      "Result:  [2 4]\n"
     ]
    }
   ],
   "source": [
    "a = np.array([1, 2, 3, 2, 3, 4, 3, 4, 5, 6])\n",
    "b = np.array([7, 2, 10, 2, 7, 4, 9, 4, 9, 8])\n",
    "c = np.array([12, 8, 3, 7, 4, 1, 2, 9, 3, 4])\n",
    "\n",
    "result = reduce(np.intersect1d, (a, b, c))\n",
    "\n",
    "print(\"Result: \", result)"
   ]
  },
  {
   "cell_type": "markdown",
   "id": "d346f707",
   "metadata": {},
   "source": [
    "## Task 2\n",
    "\n",
    "The code uses the ```arange``` function to create a 1-dimensional array which contains values from 1 to 18, since 19 will not be included in the resulting array. It then goes on to invoke the ```reshape``` function on the resulting array to make it a 3 by 6 matrix. The keyword argument (order = 'F') passed to the ```reshape``` function ensures that values are filled by column, which means the first 3 values from the 1D array appear in the first column, the second three in the next and so on, until it reaches the end."
   ]
  },
  {
   "cell_type": "code",
   "execution_count": 3,
   "id": "08934c48",
   "metadata": {},
   "outputs": [
    {
     "data": {
      "text/plain": [
       "array([[ 1,  4,  7, 10, 13, 16],\n",
       "       [ 2,  5,  8, 11, 14, 17],\n",
       "       [ 3,  6,  9, 12, 15, 18]])"
      ]
     },
     "execution_count": 3,
     "metadata": {},
     "output_type": "execute_result"
    }
   ],
   "source": [
    "arr_2d = np.arange(1, 19).reshape((3, -1), order=\"F\" )\n",
    "arr_2d"
   ]
  },
  {
   "cell_type": "markdown",
   "id": "33bb0e47",
   "metadata": {},
   "source": [
    "## Task 3\n",
    "\n",
    "The code uses the ```ravel``` function which converts an n-dimensional array into a 1-dimensional array. By passing the keyword argument order with a value of 'F' it ensures that the values are indexed by column, which will produce the desired results "
   ]
  },
  {
   "cell_type": "code",
   "execution_count": 4,
   "id": "4fbfca4e",
   "metadata": {},
   "outputs": [
    {
     "data": {
      "text/plain": [
       "array([ 1,  2,  3,  4,  5,  6,  7,  8,  9, 10, 11, 12, 13, 14, 15, 16, 17,\n",
       "       18])"
      ]
     },
     "execution_count": 4,
     "metadata": {},
     "output_type": "execute_result"
    }
   ],
   "source": [
    "arr_1d = np.ravel(arr_2d, order = \"F\")\n",
    "arr_1d"
   ]
  },
  {
   "cell_type": "markdown",
   "id": "e82b3e4c",
   "metadata": {},
   "source": [
    "## Task 4\n",
    "\n",
    "The code uses the ```reshape``` function to transform the 2d array into a 3 by 3 by 2 array which is a 3d array."
   ]
  },
  {
   "cell_type": "code",
   "execution_count": 5,
   "id": "de4afb01",
   "metadata": {},
   "outputs": [
    {
     "data": {
      "text/plain": [
       "array([[[ 1,  4],\n",
       "        [ 7, 10],\n",
       "        [13, 16]],\n",
       "\n",
       "       [[ 2,  5],\n",
       "        [ 8, 11],\n",
       "        [14, 17]],\n",
       "\n",
       "       [[ 3,  6],\n",
       "        [ 9, 12],\n",
       "        [15, 18]]])"
      ]
     },
     "execution_count": 5,
     "metadata": {},
     "output_type": "execute_result"
    }
   ],
   "source": [
    "arr_3d = arr_2d.reshape((3, 3, -1))\n",
    "arr_3d"
   ]
  },
  {
   "cell_type": "markdown",
   "id": "396e3a57",
   "metadata": {},
   "source": [
    "## Task 5\n",
    "\n",
    "The code uses the ```arr_3d``` which is the 3D array created in task 4 and converts it back to a 3 by 6 2D array by invoking the ```reshape``` function on it, passing the argument (3, -1). "
   ]
  },
  {
   "cell_type": "code",
   "execution_count": 6,
   "id": "86330cbf",
   "metadata": {},
   "outputs": [
    {
     "data": {
      "text/plain": [
       "array([[ 1,  4,  7, 10, 13, 16],\n",
       "       [ 2,  5,  8, 11, 14, 17],\n",
       "       [ 3,  6,  9, 12, 15, 18]])"
      ]
     },
     "execution_count": 6,
     "metadata": {},
     "output_type": "execute_result"
    }
   ],
   "source": [
    "arr_2d = arr_3d.reshape((3, -1))\n",
    "arr_2d"
   ]
  },
  {
   "cell_type": "markdown",
   "id": "864f5cbb",
   "metadata": {},
   "source": [
    "## Task 6\n",
    "\n",
    "The code use ```np.union1d``` function to create an array that contains elements in array ```b``` and array ```c``` and stores the resulting array in the variable ```bc```. It then uses the ```np.delete``` function to remove all elements contained in ```bc``` but to get the indices of the elements the code use ```np.where``` as the second argument. The ```np.where``` function returns the indices of all values of ```a``` that are contained in ```bc```"
   ]
  },
  {
   "cell_type": "code",
   "execution_count": 7,
   "id": "bf0c4f50",
   "metadata": {},
   "outputs": [
    {
     "name": "stderr",
     "output_type": "stream",
     "text": [
      "/var/folders/1k/58hcws017zn4nh_jpycwlvqw0000gn/T/ipykernel_20344/1556186884.py:7: DeprecationWarning: elementwise comparison failed; this will raise an error in the future.\n",
      "  np.delete(a, np.where(a in bc))\n"
     ]
    },
    {
     "data": {
      "text/plain": [
       "array([12,  5,  7, 15,  3,  1,  8,  9,  2])"
      ]
     },
     "execution_count": 7,
     "metadata": {},
     "output_type": "execute_result"
    }
   ],
   "source": [
    "a = np.array([12, 5, 7, 15, 3, 1, 8, 9, 2])\n",
    "b = np.array([14, 2, 6, 3, 11, 19, 9, 12, 5])\n",
    "c = np.array([1, 12, 4, 3, 13, 1, 9, 12, 5, 7])\n",
    "\n",
    "bc = np.union1d(b, c)\n",
    "\n",
    "np.delete(a, np.where(a in bc))\n",
    "\n",
    "a"
   ]
  },
  {
   "cell_type": "markdown",
   "id": "3728d086",
   "metadata": {},
   "source": [
    "## Task 7"
   ]
  },
  {
   "cell_type": "code",
   "execution_count": 8,
   "id": "f0cbfa77",
   "metadata": {},
   "outputs": [
    {
     "data": {
      "text/plain": [
       "numpy.ndarray"
      ]
     },
     "execution_count": 8,
     "metadata": {},
     "output_type": "execute_result"
    }
   ],
   "source": [
    "import pandas\n",
    "import numpy as np\n",
    "\n",
    "# supress scientific notation\n",
    "np.set_printoptions(suppress = True)\n",
    "\n",
    "# read the data file from GitHub and convert to a NumPy ndarray object\n",
    "# be sure to replace the ‘link_to_raw_copy of data file in your Github Repository’ placeholder shown below\n",
    "# with a link to the “raw” version of the file you pushed to your online GitHub repository\n",
    "nyc_water = pandas.read_csv('https://raw.githubusercontent.com/ktxdev/AIM-5001/main/M6/Module6_Data.csv').to_numpy()\n",
    "\n",
    "# verify you have an ndarray object\n",
    "type(nyc_water)"
   ]
  },
  {
   "cell_type": "markdown",
   "id": "190d4973",
   "metadata": {},
   "source": [
    "### Task 7a\n",
    "\n",
    "The code uses array indexing to get all rows from the second column which contains population values and invokes the ```min``` method on the resulting array to get the minimum population, the vvalue is then stored in the variable ```min_population```. It then uses ```np.where``` function to get the index of the array with the minimum population by comparing the second column of the ```nyc_water``` array to the value contained in the variable ```min_population```. The results of the np.where function are then used to index the array to get the row that matches the results. The code goes on to calling the ```flatten``` method on the results since the result will be a 2D array. From the flettened array returned by the ```flatten``` method we take the first value which represents the year and store it in the variable ```year_with_min_population```, which is the required result."
   ]
  },
  {
   "cell_type": "code",
   "execution_count": 9,
   "id": "bca3768a",
   "metadata": {},
   "outputs": [
    {
     "data": {
      "text/plain": [
       "1980.0"
      ]
     },
     "execution_count": 9,
     "metadata": {},
     "output_type": "execute_result"
    }
   ],
   "source": [
    "min_population = nyc_water[:, 1].min()\n",
    "\n",
    "year_with_min_population = nyc_water[np.where(nyc_water[:, 1] == min_population)].flatten()[0]\n",
    "\n",
    "year_with_min_population"
   ]
  },
  {
   "cell_type": "markdown",
   "id": "335b5591",
   "metadata": {},
   "source": [
    "### Task 7b\n",
    "\n",
    "The code uses array indexing to multiply the third column values by 365 to get the total annual water consumption, it then uses the ```reshape``` function to make the resulting array a 39 by 1 matrix so it can have the same dimensions as ```nyc_water``` array and stores the result in the variable ```total_annual_water_consumption```. The code then uses the ```np.append``` function passing it the 2 arrays (```nyc_water``` and ```total_annual_water_consumption```) as positional arguments and a keyword ```axis``` with the value 1 so that it appends column-wise. The results of the ```np.append``` function are stored in the ```nyc_water``` variable"
   ]
  },
  {
   "cell_type": "code",
   "execution_count": 10,
   "id": "4d90488a",
   "metadata": {},
   "outputs": [
    {
     "data": {
      "text/plain": [
       "array([[   1979. , 7102100. ,    1512. ,     213. ,  551880. ],\n",
       "       [   1980. , 7071639. ,    1506. ,     213. ,  549690. ],\n",
       "       [   1981. , 7089241. ,    1309. ,     185. ,  477785. ],\n",
       "       [   1982. , 7109105. ,    1382. ,     194. ,  504430. ],\n",
       "       [   1983. , 7181224. ,    1424. ,     198. ,  519760. ],\n",
       "       [   1984. , 7234514. ,    1465. ,     203. ,  534725. ],\n",
       "       [   1985. , 7274054. ,    1326. ,     182. ,  483990. ],\n",
       "       [   1986. , 7319246. ,    1351. ,     185. ,  493115. ],\n",
       "       [   1987. , 7342476. ,    1447. ,     197. ,  528155. ],\n",
       "       [   1988. , 7353719. ,    1484. ,     202. ,  541660. ],\n",
       "       [   1989. , 7344175. ,    1402. ,     191. ,  511730. ],\n",
       "       [   1990. , 7335650. ,    1424. ,     194. ,  519760. ],\n",
       "       [   1991. , 7374501. ,    1469. ,     199. ,  536185. ],\n",
       "       [   1992. , 7428944. ,    1369. ,     184. ,  499685. ],\n",
       "       [   1993. , 7506166. ,    1368.5,     182. ,  499502.5],\n",
       "       [   1994. , 7570458. ,    1357.7,     179. ,  495560.5],\n",
       "       [   1995. , 7633040. ,    1325.7,     174. ,  483880.5],\n",
       "       [   1996. , 7697812. ,    1297.9,     169. ,  473733.5],\n",
       "       [   1997. , 7773443. ,    1205.5,     155. ,  440007.5],\n",
       "       [   1998. , 7858259. ,    1219.5,     155. ,  445117.5],\n",
       "       [   1999. , 7947660. ,    1237.2,     156. ,  451578. ],\n",
       "       [   2000. , 8008278. ,    1240.4,     155. ,  452746. ],\n",
       "       [   2001. , 8024963.5,    1184. ,     148. ,  432160. ],\n",
       "       [   2002. , 8041649. ,    1135.6,     141. ,  414494. ],\n",
       "       [   2003. , 8058334.5,    1093.7,     136. ,  399200.5],\n",
       "       [   2004. , 8075020. ,    1099.5,     136. ,  401317.5],\n",
       "       [   2005. , 8091705.5,    1138. ,     141. ,  415370. ],\n",
       "       [   2006. , 8108391. ,    1069. ,     132. ,  390185. ],\n",
       "       [   2007. , 8125076.5,    1114. ,     137. ,  406610. ],\n",
       "       [   2008. , 8141762. ,    1098. ,     135. ,  400770. ],\n",
       "       [   2009. , 8158447.5,    1007.5,     123. ,  367737.5],\n",
       "       [   2010. , 8175133. ,    1039. ,     127. ,  379235. ],\n",
       "       [   2011. , 8284098. ,    1021. ,     123. ,  372665. ],\n",
       "       [   2012. , 8361179. ,    1009.1,     121. ,  368321.5],\n",
       "       [   2013. , 8422460. ,    1006.1,     119. ,  367226.5],\n",
       "       [   2014. , 8471990. ,     996. ,     118. ,  363540. ],\n",
       "       [   2015. , 8516502. ,    1009. ,     118. ,  368285. ],\n",
       "       [   2016. , 8537673. ,    1002. ,     117. ,  365730. ],\n",
       "       [   2017. , 8622698. ,     990.2,     115. ,  361423. ]])"
      ]
     },
     "execution_count": 10,
     "metadata": {},
     "output_type": "execute_result"
    }
   ],
   "source": [
    "total_annual_water_consumption = (nyc_water[:, 2] * 365).reshape(39, 1)\n",
    "\n",
    "nyc_water = np.append(nyc_water, total_annual_water_consumption, axis = 1)\n",
    "\n",
    "nyc_water"
   ]
  },
  {
   "cell_type": "markdown",
   "id": "a4b6d877",
   "metadata": {},
   "source": [
    "### Task 7c\n",
    "\n",
    "The code uses the ```np.median``` function to calculate the median of the daily water consumption by passing it the third column of ```nyc_water``` array. The next line uses the ```np.var``` function to calculate the variance of daily water consumption, passing it the 3rd column of ```nyc_water```. It then goes on to print the results using the ```print``` function."
   ]
  },
  {
   "cell_type": "code",
   "execution_count": 11,
   "id": "e27aad0d",
   "metadata": {},
   "outputs": [
    {
     "name": "stdout",
     "output_type": "stream",
     "text": [
      "Median:  1237.2 \n",
      "Variance:  29744.87\n"
     ]
    }
   ],
   "source": [
    "median = np.median(nyc_water[:, 2])\n",
    "variance = np.var(nyc_water[:, 2])\n",
    "\n",
    "print(\"Median: \", median, \"\\nVariance: \", round(variance, 2))"
   ]
  },
  {
   "cell_type": "markdown",
   "id": "05351af1",
   "metadata": {},
   "source": [
    "### Task 7d\n",
    "\n",
    "The code uses the np.diff function, passing the last column which represents the total annual water consumption to calculate the difference for each year except the first year. A positive value signals an increase and a negetive value signals a decrease."
   ]
  },
  {
   "cell_type": "code",
   "execution_count": 12,
   "id": "bcd07241",
   "metadata": {},
   "outputs": [
    {
     "data": {
      "text/plain": [
       "array([ -2190. , -71905. ,  26645. ,  15330. ,  14965. , -50735. ,\n",
       "         9125. ,  35040. ,  13505. , -29930. ,   8030. ,  16425. ,\n",
       "       -36500. ,   -182.5,  -3942. , -11680. , -10147. , -33726. ,\n",
       "         5110. ,   6460.5,   1168. , -20586. , -17666. , -15293.5,\n",
       "         2117. ,  14052.5, -25185. ,  16425. ,  -5840. , -33032.5,\n",
       "        11497.5,  -6570. ,  -4343.5,  -1095. ,  -3686.5,   4745. ,\n",
       "        -2555. ,  -4307. ])"
      ]
     },
     "execution_count": 12,
     "metadata": {},
     "output_type": "execute_result"
    }
   ],
   "source": [
    "np.diff(nyc_water[:, -1])"
   ]
  },
  {
   "cell_type": "code",
   "execution_count": null,
   "id": "daa2d3a4",
   "metadata": {},
   "outputs": [],
   "source": []
  }
 ],
 "metadata": {
  "kernelspec": {
   "display_name": "Python 3 (ipykernel)",
   "language": "python",
   "name": "python3"
  },
  "language_info": {
   "codemirror_mode": {
    "name": "ipython",
    "version": 3
   },
   "file_extension": ".py",
   "mimetype": "text/x-python",
   "name": "python",
   "nbconvert_exporter": "python",
   "pygments_lexer": "ipython3",
   "version": "3.11.5"
  }
 },
 "nbformat": 4,
 "nbformat_minor": 5
}
