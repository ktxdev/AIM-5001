{
 "cells": [
  {
   "cell_type": "markdown",
   "metadata": {},
   "source": [
    "- We want to optimize the relationships with invoices - what tracks were involved (with the album and playlists in which those tracks are in and the artist who created the album), which customer purchased which tracks and which employee assists which customers\n"
   ]
  },
  {
   "cell_type": "markdown",
   "metadata": {},
   "source": [
    "## PostgreSQL to Neo4j Migration"
   ]
  },
  {
   "cell_type": "markdown",
   "metadata": {},
   "source": [
    "### Developing a graph model\n",
    "#### Rows to nodes, table names to labels\n",
    "1. Each row in Artist table will become a node with Artist as the label\n",
    "2. Each row in Album table will become a node with Album as the label\n",
    "3. Each row in Playlist will become a node with Playlist as the label\n",
    "4. Each row in Track table will become a node with Track as the label\n",
    "5. Each row in Invoice table will become a node with Invoice as the label\n",
    "6. Each row in Employee table will become a node with Employee as the label\n",
    "7. Each row in Customer table will become a node with Customer as the label\n",
    "#### Joins to relationships\n",
    "1. Join between Artist and Album becomes a relationship named CREATED (were artist creates album)\n",
    "2. Join between Track and Album becomes a relationship named PART_OF (were track is part of album)\n",
    "3. Join between Customer and Invoice becomes a relationship named PURCHASED (were customer purchases an invoice)\n",
    "4. Join between Employee and Customer becomes a relationship named SUPPORTED_BY (were customer is supported by employee)\n",
    "5. Join between Employee and itself becomes a relationship named REPORTS_TO (were employee reports to another employee)\n",
    "6. Join with join table (PlaylistTrack) will become a relationship named CONTAINS (were playlist contains tracks)\n",
    "7. Join with join table (InvoiceLine) will become a relationship named SOLD_ON with properties unitPrice and quantity (were track is sold on invoice)\n",
    "### Exporting relational tables to CSV\n",
    "```bash\n",
    "COPY (SELECT * FROM \"Artist\") TO '/tmp/artists.csv' WITH CSV HEADER;\n",
    "COPY (SELECT * FROM \"Employee\") TO '/tmp/employees.csv' WITH CSV HEADER;\n",
    "COPY (SELECT * FROM \"Customer\") TO '/tmp/customers.csv' WITH CSV HEADER;\n",
    "COPY (SELECT * FROM \"Album\") TO '/tmp/albums.csv' WITH CSV HEADER;\n",
    "COPY (SELECT * FROM \"Track\" LEFT OUTER JOIN \"MediaType\" ON \"MediaType\".\"MediaTypeId\" = \"Track\".\"MediaTypeId\" LEFT OUTER JOIN \"Genre\" ON \"Genre\".\"GenreId\" = \"Track\".\"GenreId\" ) TO '/tmp/tracks.csv' WITH CSV HEADER;\n",
    "COPY (SELECT * FROM \"Invoice\" LEFT OUTER JOIN \"InvoiceLine\" ON \"Invoice\".\"InvoiceId\" =  \"InvoiceLine\".\"InvoiceId\") TO '/tmp/invoices.csv' WITH CSV HEADER;\n",
    "COPY (SELECT * FROM \"Playlist\" LEFT OUTER JOIN \"PlaylistTrack\" ON \"Playlist\".\"PlaylistId\" = \"PlaylistTrack\".\"PlaylistId\") TO '/tmp/playlists.csv' WITH CSV HEADER;\n",
    "```\n",
    "\n",
    "    \n",
    "    \n",
    "    \n",
    "    \n",
    "    "
   ]
  },
  {
   "cell_type": "markdown",
   "metadata": {},
   "source": [
    "### Connect to the chinook database\n",
    "```bash\n",
    "psql -U postgres -d chinook\n",
    "```"
   ]
  }
 ],
 "metadata": {
  "language_info": {
   "name": "python"
  }
 },
 "nbformat": 4,
 "nbformat_minor": 2
}
